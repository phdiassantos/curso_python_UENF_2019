{
  "nbformat": 4,
  "nbformat_minor": 0,
  "metadata": {
    "colab": {
      "name": "aula1.ipynb",
      "version": "0.3.2",
      "provenance": []
    },
    "language_info": {
      "codemirror_mode": {
        "name": "ipython",
        "version": 3
      },
      "file_extension": ".py",
      "mimetype": "text/x-python",
      "name": "python",
      "nbconvert_exporter": "python",
      "pygments_lexer": "ipython3",
      "version": "3.6.5"
    },
    "kernelspec": {
      "display_name": "Python 3",
      "language": "python",
      "name": "python3"
    }
  },
  "cells": [
    {
      "cell_type": "markdown",
      "metadata": {
        "id": "DhEoXeJuVonc",
        "colab_type": "text"
      },
      "source": [
        "# Aula 1. Estruturas de dados Fundamentais"
      ]
    },
    {
      "cell_type": "markdown",
      "metadata": {
        "id": "0bLOu9XDVonj",
        "colab_type": "text"
      },
      "source": [
        "Nesta aula conheceremos as principais estruturas de dados nativas da linguagem *Python*."
      ]
    },
    {
      "cell_type": "markdown",
      "metadata": {
        "id": "E7b6Gm5_Vonm",
        "colab_type": "text"
      },
      "source": [
        "##### Conteúdos"
      ]
    },
    {
      "cell_type": "markdown",
      "metadata": {
        "id": "3NVzFQCwVonp",
        "colab_type": "text"
      },
      "source": [
        "* [1. Tipos básicos](#1.-Tipos-básicos)\n",
        "    * [Representando informação numérica com *Integer* e *Float*](#Representando-informação-numérica-com-os-tipos-Integer-e-Float)\n",
        "    * [Representando informação textual com *Strings*](#Representando-informação-textual-com-Strings)\n",
        "    * [Representando valores lógicos com *Boolean*](#Representando-valores-lógicos-com-Boolean)\n",
        "    \n",
        "* [2. Tipos compostos](#2.-Tipos-compostos)\n",
        "    * [Listas](#Listas)\n",
        "    * [Tuplas](#Tuplas)\n",
        "    * [Dicionários](#Dicionários)"
      ]
    },
    {
      "cell_type": "markdown",
      "metadata": {
        "id": "x93Rq01GVonv",
        "colab_type": "text"
      },
      "source": [
        "# 1. Tipos básicos"
      ]
    },
    {
      "cell_type": "markdown",
      "metadata": {
        "id": "i3DKx1WzVonw",
        "colab_type": "text"
      },
      "source": [
        "Representamos informação usando um conjunto de **tipos** básicos, fornecidos pela linguagem. São eles:"
      ]
    },
    {
      "cell_type": "markdown",
      "metadata": {
        "id": "-ML8rJatVon0",
        "colab_type": "text"
      },
      "source": [
        "|Tipo|Desc|Exemplo||\n",
        "|----|--|--|\n",
        "|Integer (`int`)|Permite representar informação numérica (números inteiros)| `42` |\n",
        "|Float (`float`)|Permite representar informação numérica, com casas decimais | `42.0` |\n",
        "|String (`str`)|Permite representar informação textual | `\"Hello World\"` |\n",
        "|Boolean (`bool`)|Permite representar valores lógicos (lógica booleana) | `True` ou `False` |"
      ]
    },
    {
      "cell_type": "markdown",
      "metadata": {
        "id": "wOHzftBgVon4",
        "colab_type": "text"
      },
      "source": [
        "Vamos a seguir estudar cada um destes tipos"
      ]
    },
    {
      "cell_type": "markdown",
      "metadata": {
        "id": "6P7qAlPJVon7",
        "colab_type": "text"
      },
      "source": [
        "## Representando informação numérica com os tipos *Integer* e *Float*"
      ]
    },
    {
      "cell_type": "markdown",
      "metadata": {
        "id": "gYRHPE6uVon-",
        "colab_type": "text"
      },
      "source": [
        "Uma sequência de dígitos é interpretada como um **número inteiro** (tipo `int`)."
      ]
    },
    {
      "cell_type": "code",
      "metadata": {
        "id": "zNGUcK0vVooD",
        "colab_type": "code",
        "colab": {},
        "outputId": "38c09bc6-8fa3-4acd-a6e7-bfb23b0046a0"
      },
      "source": [
        "42"
      ],
      "execution_count": 0,
      "outputs": [
        {
          "output_type": "execute_result",
          "data": {
            "text/plain": [
              "42"
            ]
          },
          "metadata": {
            "tags": []
          },
          "execution_count": 1
        }
      ]
    },
    {
      "cell_type": "markdown",
      "metadata": {
        "id": "4CXhwl0GVooS",
        "colab_type": "text"
      },
      "source": [
        "**Números reais** com casas decimais são representados usando o sistema de **ponto flutuante** (tipo `float`):"
      ]
    },
    {
      "cell_type": "code",
      "metadata": {
        "id": "y7FsslzpVooV",
        "colab_type": "code",
        "colab": {},
        "outputId": "aacaa77d-5e0f-4a09-99c6-e8f57dc549cc"
      },
      "source": [
        "42.0"
      ],
      "execution_count": 0,
      "outputs": [
        {
          "output_type": "execute_result",
          "data": {
            "text/plain": [
              "42.0"
            ]
          },
          "metadata": {
            "tags": []
          },
          "execution_count": 2
        }
      ]
    },
    {
      "cell_type": "code",
      "metadata": {
        "id": "5W79awJHVoog",
        "colab_type": "code",
        "colab": {},
        "outputId": "394589fb-c76a-4f31-8c28-6d1ef061a904"
      },
      "source": [
        "42.567"
      ],
      "execution_count": 0,
      "outputs": [
        {
          "output_type": "execute_result",
          "data": {
            "text/plain": [
              "42.567"
            ]
          },
          "metadata": {
            "tags": []
          },
          "execution_count": 3
        }
      ]
    },
    {
      "cell_type": "markdown",
      "metadata": {
        "id": "i2k_R9FMVooq",
        "colab_type": "text"
      },
      "source": [
        "**Dica:** Para consultar o tipo de um determinado valor, podemos usar a função nativa `type`:"
      ]
    },
    {
      "cell_type": "code",
      "metadata": {
        "id": "dVrKcOoeVoov",
        "colab_type": "code",
        "colab": {},
        "outputId": "769b6cc8-ca7f-45d6-de49-217e915b9b43"
      },
      "source": [
        "type(42)"
      ],
      "execution_count": 0,
      "outputs": [
        {
          "output_type": "execute_result",
          "data": {
            "text/plain": [
              "int"
            ]
          },
          "metadata": {
            "tags": []
          },
          "execution_count": 4
        }
      ]
    },
    {
      "cell_type": "code",
      "metadata": {
        "id": "lT9gVYz4Voo6",
        "colab_type": "code",
        "colab": {},
        "outputId": "7d52e249-c0f9-4adb-96f1-0be0614640ff"
      },
      "source": [
        "type(42.0)"
      ],
      "execution_count": 0,
      "outputs": [
        {
          "output_type": "execute_result",
          "data": {
            "text/plain": [
              "float"
            ]
          },
          "metadata": {
            "tags": []
          },
          "execution_count": 5
        }
      ]
    },
    {
      "cell_type": "markdown",
      "metadata": {
        "heading_collapsed": true,
        "id": "hhepwOHtVopU",
        "colab_type": "text"
      },
      "source": [
        "#### Operações aritméticas"
      ]
    },
    {
      "cell_type": "markdown",
      "metadata": {
        "hidden": true,
        "id": "ZWQyXN6xVopX",
        "colab_type": "text"
      },
      "source": [
        "O interpretador *Python* permite operar valores numéricos usando um conjunto de operadores aritméticos pré-definidos.\n",
        "As operações usadas mais frequentemente são:\n",
        "\n",
        "| Operação| Operador| Exemplo | Resultado\n",
        "|:-|---|-:|--|\n",
        "| Adição      | `+` | `9 + 7` | `16` |\n",
        "| Subtração | `-` | `9 - 7` | `2` |\n",
        "| Multiplicação | `*` | `9 * 7` | `63` |\n",
        "| Divisão | `/` | `5 / 2`| `2.5` | \n",
        "| Divisão inteira | `//` | `5 // 2` | `2` |\n",
        "| Exponenciação | `**` | `9**2` | `81` |\n",
        "| Módulo | `%` | `9 % 2` | `1` |"
      ]
    },
    {
      "cell_type": "markdown",
      "metadata": {
        "hidden": true,
        "id": "CegKgxrbVopa",
        "colab_type": "text"
      },
      "source": [
        "**Regra 1**: Operações envolvendo apenas números inteiros resultam em números inteiros (com exceção da divisão)"
      ]
    },
    {
      "cell_type": "code",
      "metadata": {
        "hidden": true,
        "id": "k-e5gcoAVopd",
        "colab_type": "code",
        "colab": {},
        "outputId": "d3fe557c-072f-461a-f268-1b17e240313b"
      },
      "source": [
        "42 + 5"
      ],
      "execution_count": 0,
      "outputs": [
        {
          "output_type": "execute_result",
          "data": {
            "text/plain": [
              "47"
            ]
          },
          "metadata": {
            "tags": []
          },
          "execution_count": 6
        }
      ]
    },
    {
      "cell_type": "code",
      "metadata": {
        "hidden": true,
        "id": "qwC9c9zAVopo",
        "colab_type": "code",
        "colab": {},
        "outputId": "deb66959-ac14-4c72-f17a-fec6bfb124d4"
      },
      "source": [
        "42 - 5"
      ],
      "execution_count": 0,
      "outputs": [
        {
          "output_type": "execute_result",
          "data": {
            "text/plain": [
              "37"
            ]
          },
          "metadata": {
            "tags": []
          },
          "execution_count": 7
        }
      ]
    },
    {
      "cell_type": "code",
      "metadata": {
        "hidden": true,
        "id": "1kPCfaZwVop1",
        "colab_type": "code",
        "colab": {},
        "outputId": "a2539ff6-4c16-4ccc-dc30-42a74c783020"
      },
      "source": [
        "42 * 5"
      ],
      "execution_count": 0,
      "outputs": [
        {
          "output_type": "execute_result",
          "data": {
            "text/plain": [
              "210"
            ]
          },
          "metadata": {
            "tags": []
          },
          "execution_count": 8
        }
      ]
    },
    {
      "cell_type": "code",
      "metadata": {
        "hidden": true,
        "id": "_kzzUMy8Vop_",
        "colab_type": "code",
        "colab": {},
        "outputId": "840e28c3-be2c-455d-8b63-bfb5ceec2aec"
      },
      "source": [
        "42 ** 2"
      ],
      "execution_count": 0,
      "outputs": [
        {
          "output_type": "execute_result",
          "data": {
            "text/plain": [
              "1764"
            ]
          },
          "metadata": {
            "tags": []
          },
          "execution_count": 9
        }
      ]
    },
    {
      "cell_type": "code",
      "metadata": {
        "hidden": true,
        "id": "D2_D0BiNVoqT",
        "colab_type": "code",
        "colab": {},
        "outputId": "d1a727fb-5099-4878-83d0-7590f91a6c39"
      },
      "source": [
        "42 % 4"
      ],
      "execution_count": 0,
      "outputs": [
        {
          "output_type": "execute_result",
          "data": {
            "text/plain": [
              "2"
            ]
          },
          "metadata": {
            "tags": []
          },
          "execution_count": 10
        }
      ]
    },
    {
      "cell_type": "markdown",
      "metadata": {
        "hidden": true,
        "id": "qT4XGIRPVoqa",
        "colab_type": "text"
      },
      "source": [
        "A operação de divisão é a exceção à regra:"
      ]
    },
    {
      "cell_type": "code",
      "metadata": {
        "hidden": true,
        "id": "vHii6IU6Voqb",
        "colab_type": "code",
        "colab": {},
        "outputId": "920c5301-2457-40a6-bb8b-c03ec7666bfb"
      },
      "source": [
        "42/2"
      ],
      "execution_count": 0,
      "outputs": [
        {
          "output_type": "execute_result",
          "data": {
            "text/plain": [
              "21.0"
            ]
          },
          "metadata": {
            "tags": []
          },
          "execution_count": 11
        }
      ]
    },
    {
      "cell_type": "code",
      "metadata": {
        "hidden": true,
        "id": "mqh_4JcyVoqz",
        "colab_type": "code",
        "colab": {},
        "outputId": "7b0a8dd1-e468-472a-9896-d0cda0002464"
      },
      "source": [
        "42/5"
      ],
      "execution_count": 0,
      "outputs": [
        {
          "output_type": "execute_result",
          "data": {
            "text/plain": [
              "8.4"
            ]
          },
          "metadata": {
            "tags": []
          },
          "execution_count": 12
        }
      ]
    },
    {
      "cell_type": "markdown",
      "metadata": {
        "hidden": true,
        "id": "4q833Jf8VorA",
        "colab_type": "text"
      },
      "source": [
        "Mas podemos utilizar o operador de divisão inteira (`//`), que descarta a parte decimal"
      ]
    },
    {
      "cell_type": "code",
      "metadata": {
        "hidden": true,
        "id": "qQ_HJwtnVorD",
        "colab_type": "code",
        "colab": {},
        "outputId": "96eb5576-d6a5-41bd-c5f6-24e474dc5653"
      },
      "source": [
        "42//2"
      ],
      "execution_count": 0,
      "outputs": [
        {
          "output_type": "execute_result",
          "data": {
            "text/plain": [
              "21"
            ]
          },
          "metadata": {
            "tags": []
          },
          "execution_count": 13
        }
      ]
    },
    {
      "cell_type": "code",
      "metadata": {
        "hidden": true,
        "id": "RIqbybpfVorM",
        "colab_type": "code",
        "colab": {},
        "outputId": "cbde4669-2a2a-4a87-ead9-436abb677c11"
      },
      "source": [
        "41//5"
      ],
      "execution_count": 0,
      "outputs": [
        {
          "output_type": "execute_result",
          "data": {
            "text/plain": [
              "8"
            ]
          },
          "metadata": {
            "tags": []
          },
          "execution_count": 14
        }
      ]
    },
    {
      "cell_type": "markdown",
      "metadata": {
        "hidden": true,
        "id": "hZ0SwiY5Vorb",
        "colab_type": "text"
      },
      "source": [
        "**Regra 2**: Operações envolvendo pelo menos um número de ponto flutuante resultam em números de ponto flutuante:"
      ]
    },
    {
      "cell_type": "code",
      "metadata": {
        "hidden": true,
        "id": "2AePBbWNVord",
        "colab_type": "code",
        "colab": {},
        "outputId": "1d17f17e-2d6a-4eec-84fe-d0b3139286ce"
      },
      "source": [
        "42.0 + 5"
      ],
      "execution_count": 0,
      "outputs": [
        {
          "output_type": "execute_result",
          "data": {
            "text/plain": [
              "47.0"
            ]
          },
          "metadata": {
            "tags": []
          },
          "execution_count": 15
        }
      ]
    },
    {
      "cell_type": "code",
      "metadata": {
        "hidden": true,
        "id": "3N5h4CPOVori",
        "colab_type": "code",
        "colab": {},
        "outputId": "15622c21-1cea-4d9d-fd21-f906f810e271"
      },
      "source": [
        "42 - 5.0"
      ],
      "execution_count": 0,
      "outputs": [
        {
          "output_type": "execute_result",
          "data": {
            "text/plain": [
              "37.0"
            ]
          },
          "metadata": {
            "tags": []
          },
          "execution_count": 16
        }
      ]
    },
    {
      "cell_type": "code",
      "metadata": {
        "hidden": true,
        "id": "m035nW9FVorp",
        "colab_type": "code",
        "colab": {},
        "outputId": "63f18668-a093-4596-e000-486053f0951b"
      },
      "source": [
        "42 * 5.0"
      ],
      "execution_count": 0,
      "outputs": [
        {
          "output_type": "execute_result",
          "data": {
            "text/plain": [
              "210.0"
            ]
          },
          "metadata": {
            "tags": []
          },
          "execution_count": 17
        }
      ]
    },
    {
      "cell_type": "code",
      "metadata": {
        "hidden": true,
        "id": "jAojsEhCVorw",
        "colab_type": "code",
        "colab": {},
        "outputId": "23bb2d06-7398-414a-95ad-ec7622a7239a"
      },
      "source": [
        "42 ** 2.0"
      ],
      "execution_count": 0,
      "outputs": [
        {
          "output_type": "execute_result",
          "data": {
            "text/plain": [
              "1764.0"
            ]
          },
          "metadata": {
            "tags": []
          },
          "execution_count": 18
        }
      ]
    },
    {
      "cell_type": "code",
      "metadata": {
        "hidden": true,
        "id": "hSSSrVbIVor8",
        "colab_type": "code",
        "colab": {},
        "outputId": "03869c4a-5ecd-4304-8f50-48297d798c75"
      },
      "source": [
        "42.0 % 2"
      ],
      "execution_count": 0,
      "outputs": [
        {
          "output_type": "execute_result",
          "data": {
            "text/plain": [
              "0.0"
            ]
          },
          "metadata": {
            "tags": []
          },
          "execution_count": 19
        }
      ]
    },
    {
      "cell_type": "code",
      "metadata": {
        "hidden": true,
        "id": "7lxHONy9VosD",
        "colab_type": "code",
        "colab": {},
        "outputId": "26226844-4cf6-4001-9372-9f9a146ae758"
      },
      "source": [
        "42 / 2"
      ],
      "execution_count": 0,
      "outputs": [
        {
          "output_type": "execute_result",
          "data": {
            "text/plain": [
              "21.0"
            ]
          },
          "metadata": {
            "tags": []
          },
          "execution_count": 20
        }
      ]
    },
    {
      "cell_type": "code",
      "metadata": {
        "hidden": true,
        "id": "15slw-3LVosO",
        "colab_type": "code",
        "colab": {},
        "outputId": "a3498c25-cac9-4030-cbf6-6edb7129688d"
      },
      "source": [
        "42.0 // 2"
      ],
      "execution_count": 0,
      "outputs": [
        {
          "output_type": "execute_result",
          "data": {
            "text/plain": [
              "21.0"
            ]
          },
          "metadata": {
            "tags": []
          },
          "execution_count": 21
        }
      ]
    },
    {
      "cell_type": "code",
      "metadata": {
        "hidden": true,
        "id": "2i9TQ23fVose",
        "colab_type": "code",
        "colab": {},
        "outputId": "dd08cd48-a234-4062-e933-fa3b179aacfa"
      },
      "source": [
        "41.0 // 5"
      ],
      "execution_count": 0,
      "outputs": [
        {
          "output_type": "execute_result",
          "data": {
            "text/plain": [
              "8.0"
            ]
          },
          "metadata": {
            "tags": []
          },
          "execution_count": 22
        }
      ]
    },
    {
      "cell_type": "markdown",
      "metadata": {
        "heading_collapsed": true,
        "id": "4RzbSMDcVosj",
        "colab_type": "text"
      },
      "source": [
        "#### Comparando valores numéricos"
      ]
    },
    {
      "cell_type": "markdown",
      "metadata": {
        "hidden": true,
        "id": "lqfwGx1RVosm",
        "colab_type": "text"
      },
      "source": [
        "Podemos comparar valores numéricos usando os **operadores de comparação**. Estes operadores avaliam se a expressão é verdadeira, retornando valores lógicos `True` ou `False` (mais sobre valores lógicos a seguir)."
      ]
    },
    {
      "cell_type": "markdown",
      "metadata": {
        "hidden": true,
        "id": "GIKg3kktVosn",
        "colab_type": "text"
      },
      "source": [
        "| Operador | Descrição |\n",
        "| - | - |\n",
        "|    `==`  | Retorna `True` se valores de dois operandos são iguais |\n",
        "|    `!=`  | Retorna `True` se valores de dois operandos são diferentes |\n",
        "|    `<`  | Retorna `True` se valor do operando à esquerda é menor que o da direita |\n",
        "|    `<=`  | Retorna `True` se valor do operando à esquerda é menor ou igual ao da direita|\n",
        "|    `>`  | Retorna `True` se valor do operando à esquerda é maior que o da direita |\n",
        "|    `>=`  | Retorna `True` se valor do operando à esquerda é maior ou igual ao da direita |"
      ]
    },
    {
      "cell_type": "code",
      "metadata": {
        "hidden": true,
        "id": "FBKiC17XVosp",
        "colab_type": "code",
        "colab": {},
        "outputId": "e91217a4-efde-407b-b683-c14e30c6dc62"
      },
      "source": [
        "5 == 4"
      ],
      "execution_count": 0,
      "outputs": [
        {
          "output_type": "execute_result",
          "data": {
            "text/plain": [
              "False"
            ]
          },
          "metadata": {
            "tags": []
          },
          "execution_count": 23
        }
      ]
    },
    {
      "cell_type": "code",
      "metadata": {
        "hidden": true,
        "id": "4pKaHmRWVosv",
        "colab_type": "code",
        "colab": {},
        "outputId": "6119df30-4f22-4363-bcd5-316f101ce399"
      },
      "source": [
        "5 != 4"
      ],
      "execution_count": 0,
      "outputs": [
        {
          "output_type": "execute_result",
          "data": {
            "text/plain": [
              "True"
            ]
          },
          "metadata": {
            "tags": []
          },
          "execution_count": 24
        }
      ]
    },
    {
      "cell_type": "code",
      "metadata": {
        "hidden": true,
        "id": "cUSKXxMtVos0",
        "colab_type": "code",
        "colab": {},
        "outputId": "86e72f02-bbc0-41fc-c92b-e388cbb1142c"
      },
      "source": [
        "5 < 4"
      ],
      "execution_count": 0,
      "outputs": [
        {
          "output_type": "execute_result",
          "data": {
            "text/plain": [
              "False"
            ]
          },
          "metadata": {
            "tags": []
          },
          "execution_count": 25
        }
      ]
    },
    {
      "cell_type": "code",
      "metadata": {
        "hidden": true,
        "id": "xFHJcf-lVos6",
        "colab_type": "code",
        "colab": {},
        "outputId": "20353d75-b567-4e7e-83cc-4662cea45654"
      },
      "source": [
        "5 <= 4"
      ],
      "execution_count": 0,
      "outputs": [
        {
          "output_type": "execute_result",
          "data": {
            "text/plain": [
              "False"
            ]
          },
          "metadata": {
            "tags": []
          },
          "execution_count": 26
        }
      ]
    },
    {
      "cell_type": "code",
      "metadata": {
        "hidden": true,
        "id": "TIvWPPp2VotE",
        "colab_type": "code",
        "colab": {},
        "outputId": "0904016e-8d80-4031-d6bc-5652ab2be4bd"
      },
      "source": [
        "5 > 4"
      ],
      "execution_count": 0,
      "outputs": [
        {
          "output_type": "execute_result",
          "data": {
            "text/plain": [
              "True"
            ]
          },
          "metadata": {
            "tags": []
          },
          "execution_count": 27
        }
      ]
    },
    {
      "cell_type": "code",
      "metadata": {
        "hidden": true,
        "id": "gIiJBFxhVotP",
        "colab_type": "code",
        "colab": {},
        "outputId": "03d8d70c-0618-40a8-f345-29214ffc07e7"
      },
      "source": [
        "5 >= 4"
      ],
      "execution_count": 0,
      "outputs": [
        {
          "output_type": "execute_result",
          "data": {
            "text/plain": [
              "True"
            ]
          },
          "metadata": {
            "tags": []
          },
          "execution_count": 28
        }
      ]
    },
    {
      "cell_type": "markdown",
      "metadata": {
        "hidden": true,
        "id": "ddw6LAS8VotU",
        "colab_type": "text"
      },
      "source": [
        "\n",
        "Na comparação, o tipo utilizado para representar o valor não importa:"
      ]
    },
    {
      "cell_type": "code",
      "metadata": {
        "hidden": true,
        "id": "-T5KhWG7VotW",
        "colab_type": "code",
        "colab": {},
        "outputId": "037384d0-146b-4885-c490-89ab073a0c48"
      },
      "source": [
        "42.0 == 42"
      ],
      "execution_count": 0,
      "outputs": [
        {
          "output_type": "execute_result",
          "data": {
            "text/plain": [
              "True"
            ]
          },
          "metadata": {
            "tags": []
          },
          "execution_count": 29
        }
      ]
    },
    {
      "cell_type": "code",
      "metadata": {
        "hidden": true,
        "id": "8M73OLL1Votd",
        "colab_type": "code",
        "colab": {},
        "outputId": "42e31909-18b3-4bfe-d605-56d8b7366396"
      },
      "source": [
        "42.01 == 42"
      ],
      "execution_count": 0,
      "outputs": [
        {
          "output_type": "execute_result",
          "data": {
            "text/plain": [
              "False"
            ]
          },
          "metadata": {
            "tags": []
          },
          "execution_count": 30
        }
      ]
    },
    {
      "cell_type": "code",
      "metadata": {
        "hidden": true,
        "id": "x0pA19IVVotg",
        "colab_type": "code",
        "colab": {},
        "outputId": "d74a6d2d-d4c5-4836-9c28-415368c83762"
      },
      "source": [
        "42.5"
      ],
      "execution_count": 0,
      "outputs": [
        {
          "output_type": "execute_result",
          "data": {
            "text/plain": [
              "42.5"
            ]
          },
          "metadata": {
            "tags": []
          },
          "execution_count": 31
        }
      ]
    },
    {
      "cell_type": "code",
      "metadata": {
        "hidden": true,
        "id": "g8-vhLvIVotk",
        "colab_type": "code",
        "colab": {},
        "outputId": "c5132ef9-c5f3-4470-bf19-09505f572181"
      },
      "source": [
        "42.0"
      ],
      "execution_count": 0,
      "outputs": [
        {
          "output_type": "execute_result",
          "data": {
            "text/plain": [
              "42.0"
            ]
          },
          "metadata": {
            "tags": []
          },
          "execution_count": 32
        }
      ]
    },
    {
      "cell_type": "markdown",
      "metadata": {
        "hidden": true,
        "id": "2TrjWFgeVotp",
        "colab_type": "text"
      },
      "source": [
        "---"
      ]
    },
    {
      "cell_type": "markdown",
      "metadata": {
        "id": "t6oUMlzLVotq",
        "colab_type": "text"
      },
      "source": [
        "## Representando informação textual com *Strings*"
      ]
    },
    {
      "cell_type": "markdown",
      "metadata": {
        "id": "SrquI6wYVotq",
        "colab_type": "text"
      },
      "source": [
        "Strings podem ser codificadas usando aspas duplas ou simples, desde que usadas de forma coerente: aspas duplas devem ser fechadas com aspas duplas, assim como aspas simples devem ser fechadas com aspas simples"
      ]
    },
    {
      "cell_type": "code",
      "metadata": {
        "id": "EHTwXp-eVotr",
        "colab_type": "code",
        "colab": {},
        "outputId": "db215c66-e6b7-4ac7-e990-1fea39d0247e"
      },
      "source": [
        "\"String criada com aspas duplas\""
      ],
      "execution_count": 0,
      "outputs": [
        {
          "output_type": "execute_result",
          "data": {
            "text/plain": [
              "'String criada com aspas duplas'"
            ]
          },
          "metadata": {
            "tags": []
          },
          "execution_count": 33
        }
      ]
    },
    {
      "cell_type": "code",
      "metadata": {
        "id": "nxPQ2kY-Votv",
        "colab_type": "code",
        "colab": {},
        "outputId": "41395f24-c455-4e0d-cc37-f9874633f96b"
      },
      "source": [
        "'String criada com aspas simples'"
      ],
      "execution_count": 0,
      "outputs": [
        {
          "output_type": "execute_result",
          "data": {
            "text/plain": [
              "'String criada com aspas simples'"
            ]
          },
          "metadata": {
            "tags": []
          },
          "execution_count": 34
        }
      ]
    },
    {
      "cell_type": "markdown",
      "metadata": {
        "id": "g6YBLc2pVotz",
        "colab_type": "text"
      },
      "source": [
        "Usamos uma combinação de aspas simples e duplas quando queremos que elas sejam interpretadas como caracteres pertencentes à própria string"
      ]
    },
    {
      "cell_type": "code",
      "metadata": {
        "id": "Z157V73UVot0",
        "colab_type": "code",
        "colab": {},
        "outputId": "6809f4db-5ef6-44d3-83da-fb1f3e8c4130"
      },
      "source": [
        "\"String criada com aspas duplas, contendo texto com 'aspas simples'\""
      ],
      "execution_count": 0,
      "outputs": [
        {
          "output_type": "execute_result",
          "data": {
            "text/plain": [
              "\"String criada com aspas duplas, contendo texto com 'aspas simples'\""
            ]
          },
          "metadata": {
            "tags": []
          },
          "execution_count": 35
        }
      ]
    },
    {
      "cell_type": "code",
      "metadata": {
        "id": "0IQIgYLIVot4",
        "colab_type": "code",
        "colab": {},
        "outputId": "8c272430-b89a-4f51-8cee-8c671cea26bc"
      },
      "source": [
        "'String criada com aspas simples, contendo texto com \"aspas duplas\"'"
      ],
      "execution_count": 0,
      "outputs": [
        {
          "output_type": "execute_result",
          "data": {
            "text/plain": [
              "'String criada com aspas simples, contendo texto com \"aspas duplas\"'"
            ]
          },
          "metadata": {
            "tags": []
          },
          "execution_count": 36
        }
      ]
    },
    {
      "cell_type": "markdown",
      "metadata": {
        "id": "X4C9KL8dVot9",
        "colab_type": "text"
      },
      "source": [
        "Podemos também usar triplas (3 aspas duplas ou 3 aspas simples) para criar strings com quebra de linha. Observe que a quebra de linha é codificada na string com um caractere especial, o *newline* (`'\\n'`). Mas as linhas só são de fato quebradas quando imprimimos a string no console, usando a função `print`"
      ]
    },
    {
      "cell_type": "code",
      "metadata": {
        "id": "xnFULnInVot9",
        "colab_type": "code",
        "colab": {},
        "outputId": "ff431e02-0203-4a75-ea82-8b0644fdfea1"
      },
      "source": [
        "\"\"\"Aspas triplas permitem criar strings com múltiplas linhas.\n",
        "Cada quebra de linha é transformada no caractere especial 'newline'.\n",
        "Quando a string é imprimida, o caractere especial 'newline' quebra a linha.\"\"\""
      ],
      "execution_count": 0,
      "outputs": [
        {
          "output_type": "execute_result",
          "data": {
            "text/plain": [
              "\"Aspas triplas permitem criar strings com múltiplas linhas.\\nCada quebra de linha é transformada no caractere especial 'newline'.\\nQuando a string é imprimida, o caractere especial 'newline' quebra a linha.\""
            ]
          },
          "metadata": {
            "tags": []
          },
          "execution_count": 37
        }
      ]
    },
    {
      "cell_type": "code",
      "metadata": {
        "id": "l4r-408MVouB",
        "colab_type": "code",
        "colab": {},
        "outputId": "770c7ed3-9daa-4d97-f203-32264688e069"
      },
      "source": [
        "print(\"\"\"Aspas triplas permitem criar strings com múltiplas linhas.\n",
        "Cada quebra de linha é transformada no caractere especial 'newline'.\n",
        "Quando a string é imprimida, o caractere especial 'newline' quebra a linha.\"\"\")"
      ],
      "execution_count": 0,
      "outputs": [
        {
          "output_type": "stream",
          "text": [
            "Aspas triplas permitem criar strings com múltiplas linhas.\n",
            "Cada quebra de linha é transformada no caractere especial 'newline'.\n",
            "Quando a string é imprimida, o caractere especial 'newline' quebra a linha.\n"
          ],
          "name": "stdout"
        }
      ]
    },
    {
      "cell_type": "markdown",
      "metadata": {
        "id": "w8Xy9mFJVouJ",
        "colab_type": "text"
      },
      "source": [
        "Mas e se quiséssemos de fato armazenar os caracteres `'\\'` e `'n'` na string, sem que fossem interpretados como um caractere especial? Neste desvemos usar um outro caractere especial, o *escape character* (`'\\'`). Sempre que usamos este caractere dizemos que o caractere seguinte não deve ser interpretado como caractere especial"
      ]
    },
    {
      "cell_type": "code",
      "metadata": {
        "id": "a1H0Q0UqVouL",
        "colab_type": "code",
        "colab": {},
        "outputId": "1011c241-d9ed-49ea-8bad-32a5728102d7"
      },
      "source": [
        "print(\"Se quisermos pular uma linha é só usar o caractere 'newline'.\\nEle é considerado um caractere especial.\")"
      ],
      "execution_count": 0,
      "outputs": [
        {
          "output_type": "stream",
          "text": [
            "Se quisermos pular uma linha é só usar o caractere 'newline'.\n",
            "Ele é considerado um caractere especial.\n"
          ],
          "name": "stdout"
        }
      ]
    },
    {
      "cell_type": "markdown",
      "metadata": {
        "id": "Qbkju4rtVouX",
        "colab_type": "text"
      },
      "source": [
        "E se quisermos incluir os dois caracteres `\\`e `n` literalmente na string? Podemos usar um *backslash* (`\\`) para escapar o caractere especial"
      ]
    },
    {
      "cell_type": "code",
      "metadata": {
        "id": "gJ9SAmnzVouZ",
        "colab_type": "code",
        "colab": {},
        "outputId": "dd8eba59-d5b4-480b-9071-6537d7456200"
      },
      "source": [
        "print(\"Se quisermos pular uma linha é só usar o caractere 'newline' (\\\\n).\\nEle é considerado um caractere especial.\")"
      ],
      "execution_count": 0,
      "outputs": [
        {
          "output_type": "stream",
          "text": [
            "Se quisermos pular uma linha é só usar o caractere 'newline' (\\n).\n",
            "Ele é considerado um caractere especial.\n"
          ],
          "name": "stdout"
        }
      ]
    },
    {
      "cell_type": "markdown",
      "metadata": {
        "id": "6mAwIbwsVoue",
        "colab_type": "text"
      },
      "source": [
        "#### Strings cruas (*raw strings*)"
      ]
    },
    {
      "cell_type": "markdown",
      "metadata": {
        "id": "m3xqz9iWVouf",
        "colab_type": "text"
      },
      "source": [
        "Se quisermos escapar todos os caracteres especiais, podemos dizer que uma string é \"crua\", (uma *raw string*). Para isso, basta adicionar o caractere `'r'` imediatamente antes de abrir a string"
      ]
    },
    {
      "cell_type": "code",
      "metadata": {
        "id": "4OUfLEJ0Voug",
        "colab_type": "code",
        "colab": {},
        "outputId": "b04708af-f8fb-4c0c-e25a-99fa3e8bd9e9"
      },
      "source": [
        "r\"Esta é uma string crua.\\nCaracteres especiais são automaticamente escapados, e interpretados literalmente\""
      ],
      "execution_count": 0,
      "outputs": [
        {
          "output_type": "execute_result",
          "data": {
            "text/plain": [
              "'Esta é uma string crua.\\\\nCaracteres especiais são automaticamente escapados, e interpretados literalmente'"
            ]
          },
          "metadata": {
            "tags": []
          },
          "execution_count": 41
        }
      ]
    },
    {
      "cell_type": "code",
      "metadata": {
        "id": "MLdkTCALVoui",
        "colab_type": "code",
        "colab": {},
        "outputId": "6da5e727-1b57-41c1-af52-87fc2d8a80d6"
      },
      "source": [
        "print(r\"Esta é uma string crua.\\nCaracteres especiais são automaticamente escapados, e interpretados literalmente\")"
      ],
      "execution_count": 0,
      "outputs": [
        {
          "output_type": "stream",
          "text": [
            "Esta é uma string crua.\\nCaracteres especiais são automaticamente escapados, e interpretados literalmente\n"
          ],
          "name": "stdout"
        }
      ]
    },
    {
      "cell_type": "code",
      "metadata": {
        "id": "0nmGB_JQVout",
        "colab_type": "code",
        "colab": {},
        "outputId": "0c2937c2-e07d-4d67-c8ac-a8239524fb6a"
      },
      "source": [
        "print(\"Esta NÃO é uma string crua.\\nCaracteres especiais NÃO são escapados, e exercem sua função esperada\")"
      ],
      "execution_count": 0,
      "outputs": [
        {
          "output_type": "stream",
          "text": [
            "Esta NÃO é uma string crua.\n",
            "Caracteres especiais NÃO são escapados, e exercem sua função esperada\n"
          ],
          "name": "stdout"
        }
      ]
    },
    {
      "cell_type": "markdown",
      "metadata": {
        "id": "sYit0AzNVou1",
        "colab_type": "text"
      },
      "source": [
        "### Formatação de Strings"
      ]
    },
    {
      "cell_type": "markdown",
      "metadata": {
        "id": "bvSfIxPTVou5",
        "colab_type": "text"
      },
      "source": [
        "A linguagem oferece divermas maneiras para formatar strings, usando valores contidos em variáveis ou resultantes de expressões avaliadas em tempo de execução. Aqui vamos conhecer apenas os dois mais comumente usados"
      ]
    },
    {
      "cell_type": "markdown",
      "metadata": {
        "id": "kR1yTqyJVovH",
        "colab_type": "text"
      },
      "source": [
        "#### O método `.format()`"
      ]
    },
    {
      "cell_type": "markdown",
      "metadata": {
        "id": "o_eDF1YCVovL",
        "colab_type": "text"
      },
      "source": [
        "Este método realiza a formatação da string inserindo entre as chaves (também chamados \"campos de substituição\") os valores que são passados como argumento. Caso os campos de substituição estejam vazios, a substituição dos valores ocorre na mesma ordem em que são passados para a função `format`."
      ]
    },
    {
      "cell_type": "code",
      "metadata": {
        "id": "3HgfTH3lVovM",
        "colab_type": "code",
        "colab": {},
        "outputId": "1bcfbc2d-e145-47d1-9ffd-6a69540b80e0"
      },
      "source": [
        "\"My name is {}. I am {} years old\".format(\"Luke Skywalker\", 18 + 10)"
      ],
      "execution_count": 0,
      "outputs": [
        {
          "output_type": "execute_result",
          "data": {
            "text/plain": [
              "'My name is Luke Skywalker. I am 28 years old'"
            ]
          },
          "metadata": {
            "tags": []
          },
          "execution_count": 44
        }
      ]
    },
    {
      "cell_type": "markdown",
      "metadata": {
        "id": "1o8nDrC7VovQ",
        "colab_type": "text"
      },
      "source": [
        "Campos de substituição podem incluir o índice (posição) do argumento que deve ser substituído"
      ]
    },
    {
      "cell_type": "code",
      "metadata": {
        "id": "h21LDCOjVovR",
        "colab_type": "code",
        "colab": {},
        "outputId": "585fa17a-1e28-41d7-fb90-e6232bb4fb56"
      },
      "source": [
        "\"My name is {0}. I am {0} years old\".format(\"Luke Skywalker\", 18 + 10)"
      ],
      "execution_count": 0,
      "outputs": [
        {
          "output_type": "execute_result",
          "data": {
            "text/plain": [
              "'My name is Luke Skywalker. I am Luke Skywalker years old'"
            ]
          },
          "metadata": {
            "tags": []
          },
          "execution_count": 45
        }
      ]
    },
    {
      "cell_type": "code",
      "metadata": {
        "id": "virgvULxVovX",
        "colab_type": "code",
        "colab": {},
        "outputId": "5f1839c7-feb9-4aaa-cc14-928116879759"
      },
      "source": [
        "\"My name is {1}. I am {0} years old\".format(\"Luke Skywalker\", 18 + 10)"
      ],
      "execution_count": 0,
      "outputs": [
        {
          "output_type": "execute_result",
          "data": {
            "text/plain": [
              "'My name is 28. I am Luke Skywalker years old'"
            ]
          },
          "metadata": {
            "tags": []
          },
          "execution_count": 46
        }
      ]
    },
    {
      "cell_type": "markdown",
      "metadata": {
        "id": "2LtG1dbYVovs",
        "colab_type": "text"
      },
      "source": [
        "Caso a função `format` receba argumentos nomeados, podemos usar os nomes nos campos de substituição"
      ]
    },
    {
      "cell_type": "code",
      "metadata": {
        "id": "InPpdRBjVovu",
        "colab_type": "code",
        "colab": {},
        "outputId": "3778cef8-45a9-4bab-d07e-48eb472de1be"
      },
      "source": [
        "\"My name is {name}. I am {age} years old\".format(name=\"Luke Skywalker\", age=18 + 10)"
      ],
      "execution_count": 0,
      "outputs": [
        {
          "output_type": "execute_result",
          "data": {
            "text/plain": [
              "'My name is Luke Skywalker. I am 28 years old'"
            ]
          },
          "metadata": {
            "tags": []
          },
          "execution_count": 47
        }
      ]
    },
    {
      "cell_type": "markdown",
      "metadata": {
        "id": "dV8MzSAcVowL",
        "colab_type": "text"
      },
      "source": [
        "Mais detalhes sobre o método `format` estão documentados [aqui](https://docs.python.org/3/library/stdtypes.html#str.format)"
      ]
    },
    {
      "cell_type": "markdown",
      "metadata": {
        "id": "E06EQPH1VowL",
        "colab_type": "text"
      },
      "source": [
        "#### As f-strings"
      ]
    },
    {
      "cell_type": "markdown",
      "metadata": {
        "id": "tlltig2KVowN",
        "colab_type": "text"
      },
      "source": [
        "A partir do *Python 3.6*, a formatação de strings ficou ainda mais simples com as **f-strings** (ou *\"formatted string literals\"*). Para construir uma f-string, devemos *(i)* adicionar o caractere `'f'` imediatamente antes de abrir a string; e *(ii)* usar chaves (`{}`) para conter expressões cujos valores deverão ser substituídos. \n",
        "Veja o exemplo abaixo"
      ]
    },
    {
      "cell_type": "code",
      "metadata": {
        "id": "qF7xsyyWVowP",
        "colab_type": "code",
        "colab": {},
        "outputId": "8826a28f-2a0e-4639-e4bf-b2f2a4e0e9a4"
      },
      "source": [
        "myName = \"Luke Skywalker\"\n",
        "age = 18 + 10\n",
        "\n",
        "f\"My name is {myName}. I am {age} years old\""
      ],
      "execution_count": 0,
      "outputs": [
        {
          "output_type": "execute_result",
          "data": {
            "text/plain": [
              "'My name is Luke Skywalker. I am 28 years old'"
            ]
          },
          "metadata": {
            "tags": []
          },
          "execution_count": 48
        }
      ]
    },
    {
      "cell_type": "markdown",
      "metadata": {
        "id": "fgAzNxSdVowX",
        "colab_type": "text"
      },
      "source": [
        "Atualmente este é o método de formatação mais indicado pela comunidade *Python*. Veja mais detalhes na [documentação](https://docs.python.org/3/reference/lexical_analysis.html#f-strings)"
      ]
    },
    {
      "cell_type": "markdown",
      "metadata": {
        "id": "Px5w4zv5VowY",
        "colab_type": "text"
      },
      "source": [
        "---"
      ]
    },
    {
      "cell_type": "markdown",
      "metadata": {
        "id": "iN1YbkvhVowY",
        "colab_type": "text"
      },
      "source": [
        "## Representando valores lógicos com *Boolean*"
      ]
    },
    {
      "cell_type": "markdown",
      "metadata": {
        "id": "9bwrNLGtVowY",
        "colab_type": "text"
      },
      "source": [
        "Na [álgebra booleana](https://www.wikiwand.com/en/Boolean_algebra), variáveis podem assumir apenas dois valores distintos: \"verdadeiro\" (`True`) ou \"falso\" (`True`). Na linguagem *Python*, estes elementos lógicos são representados com o tipo *Boolean* (`bool`). Operadores de comparação envolvendo números resultam em valores lógicos. O uso de expressões lógicas é muito comum quando construímos **estruturas de decisão** no nosso programa, como veremos adiante"
      ]
    },
    {
      "cell_type": "markdown",
      "metadata": {
        "id": "pczy3wR7VowZ",
        "colab_type": "text"
      },
      "source": [
        "Na álgebra booleana, são definidas três operações fundamentais: a **conjunção** (`and`), a **disjunção** (`or`), e a **negação** (`not`). Podemos construir expressões a partir destes operadores, e avaliar seu valor lógico, usando como base uma tabela-verdade"
      ]
    },
    {
      "cell_type": "markdown",
      "metadata": {
        "id": "BL4yHF0dVowa",
        "colab_type": "text"
      },
      "source": [
        "|X|Y|X and Y|X or Y| not X\n",
        "|-|-|-|\n",
        "|`False`| `False`| `False`|`False`|`True`|\n",
        "|`False`| `True` | `False`|`True` |`True`|\n",
        "|`True` | `False`| `False`|`True` |`False`|\n",
        "|`True` | `True` | `True` |`True` |`False`|"
      ]
    },
    {
      "cell_type": "code",
      "metadata": {
        "id": "i9iJYTVAVowb",
        "colab_type": "code",
        "colab": {},
        "outputId": "83e8604f-f0aa-40de-93a2-c02ccd82c496"
      },
      "source": [
        "True and True"
      ],
      "execution_count": 0,
      "outputs": [
        {
          "output_type": "execute_result",
          "data": {
            "text/plain": [
              "True"
            ]
          },
          "metadata": {
            "tags": []
          },
          "execution_count": 49
        }
      ]
    },
    {
      "cell_type": "code",
      "metadata": {
        "id": "wdXIHGi9Vowe",
        "colab_type": "code",
        "colab": {},
        "outputId": "64f434d3-a583-43d3-f8d4-99d8783d2989"
      },
      "source": [
        "True and False"
      ],
      "execution_count": 0,
      "outputs": [
        {
          "output_type": "execute_result",
          "data": {
            "text/plain": [
              "False"
            ]
          },
          "metadata": {
            "tags": []
          },
          "execution_count": 50
        }
      ]
    },
    {
      "cell_type": "code",
      "metadata": {
        "id": "Q3A1788GVowm",
        "colab_type": "code",
        "colab": {},
        "outputId": "1bdd6138-0292-45c6-c902-2dd67ceb0d9f"
      },
      "source": [
        "True or False"
      ],
      "execution_count": 0,
      "outputs": [
        {
          "output_type": "execute_result",
          "data": {
            "text/plain": [
              "True"
            ]
          },
          "metadata": {
            "tags": []
          },
          "execution_count": 51
        }
      ]
    },
    {
      "cell_type": "code",
      "metadata": {
        "id": "C4uahGMxVowv",
        "colab_type": "code",
        "colab": {},
        "outputId": "060da66f-c125-4666-c497-57a7ba02189d"
      },
      "source": [
        "False or False"
      ],
      "execution_count": 0,
      "outputs": [
        {
          "output_type": "execute_result",
          "data": {
            "text/plain": [
              "False"
            ]
          },
          "metadata": {
            "tags": []
          },
          "execution_count": 52
        }
      ]
    },
    {
      "cell_type": "code",
      "metadata": {
        "id": "cLTtPs7NVow3",
        "colab_type": "code",
        "colab": {},
        "outputId": "7033b259-d7f2-4d68-e71b-ed794db82759"
      },
      "source": [
        "True and not False"
      ],
      "execution_count": 0,
      "outputs": [
        {
          "output_type": "execute_result",
          "data": {
            "text/plain": [
              "True"
            ]
          },
          "metadata": {
            "tags": []
          },
          "execution_count": 53
        }
      ]
    },
    {
      "cell_type": "code",
      "metadata": {
        "id": "DDy_mq76Vow9",
        "colab_type": "code",
        "colab": {},
        "outputId": "b24caff9-bf68-4cca-ba7a-3de1a35cff4c"
      },
      "source": [
        "True or not False"
      ],
      "execution_count": 0,
      "outputs": [
        {
          "output_type": "execute_result",
          "data": {
            "text/plain": [
              "True"
            ]
          },
          "metadata": {
            "tags": []
          },
          "execution_count": 54
        }
      ]
    },
    {
      "cell_type": "markdown",
      "metadata": {
        "id": "1XViPUJHVoxD",
        "colab_type": "text"
      },
      "source": [
        "Quando as expressões se tornam mais complexas, podemos indicar a ordem de avaliação das operações usando parênteses"
      ]
    },
    {
      "cell_type": "code",
      "metadata": {
        "id": "GhZBxDIMVoxD",
        "colab_type": "code",
        "colab": {},
        "outputId": "13667017-72f0-4cbb-82b4-0bf86c183f05"
      },
      "source": [
        "(True and False) and (True and not False)"
      ],
      "execution_count": 0,
      "outputs": [
        {
          "output_type": "execute_result",
          "data": {
            "text/plain": [
              "False"
            ]
          },
          "metadata": {
            "tags": []
          },
          "execution_count": 55
        }
      ]
    },
    {
      "cell_type": "code",
      "metadata": {
        "id": "7Rdf5N6SVoxH",
        "colab_type": "code",
        "colab": {},
        "outputId": "4156fb92-4d0b-4a0b-80df-c27bde71e620"
      },
      "source": [
        "(not False) and (not(not True))"
      ],
      "execution_count": 0,
      "outputs": [
        {
          "output_type": "execute_result",
          "data": {
            "text/plain": [
              "True"
            ]
          },
          "metadata": {
            "tags": []
          },
          "execution_count": 56
        }
      ]
    },
    {
      "cell_type": "markdown",
      "metadata": {
        "id": "8YCvPjxbVoxK",
        "colab_type": "text"
      },
      "source": [
        "Valores lógicos também resultam de operações de comparação"
      ]
    },
    {
      "cell_type": "code",
      "metadata": {
        "id": "oGeeXNQoVoxK",
        "colab_type": "code",
        "colab": {},
        "outputId": "48951eca-de7a-4a9b-d6dc-033560a91b9f"
      },
      "source": [
        "5 + 10 == 15"
      ],
      "execution_count": 0,
      "outputs": [
        {
          "output_type": "execute_result",
          "data": {
            "text/plain": [
              "True"
            ]
          },
          "metadata": {
            "tags": []
          },
          "execution_count": 57
        }
      ]
    },
    {
      "cell_type": "code",
      "metadata": {
        "id": "4xwbqz92VoxN",
        "colab_type": "code",
        "colab": {},
        "outputId": "c134caf6-d751-4e4c-8a79-6ba6cbf2af40"
      },
      "source": [
        "5 + 11 == 18"
      ],
      "execution_count": 0,
      "outputs": [
        {
          "output_type": "execute_result",
          "data": {
            "text/plain": [
              "False"
            ]
          },
          "metadata": {
            "tags": []
          },
          "execution_count": 58
        }
      ]
    },
    {
      "cell_type": "code",
      "metadata": {
        "id": "r1xOntxkVoxR",
        "colab_type": "code",
        "colab": {},
        "outputId": "017ac5bd-9c6f-4add-9e8d-02d6c7a05c7e"
      },
      "source": [
        "20 >= 20"
      ],
      "execution_count": 0,
      "outputs": [
        {
          "output_type": "execute_result",
          "data": {
            "text/plain": [
              "True"
            ]
          },
          "metadata": {
            "tags": []
          },
          "execution_count": 59
        }
      ]
    },
    {
      "cell_type": "code",
      "metadata": {
        "id": "feTKmR3RVoxV",
        "colab_type": "code",
        "colab": {},
        "outputId": "1a4a3e20-3278-451a-b9e3-80c44c90ee1f"
      },
      "source": [
        "10 >= 20"
      ],
      "execution_count": 0,
      "outputs": [
        {
          "output_type": "execute_result",
          "data": {
            "text/plain": [
              "False"
            ]
          },
          "metadata": {
            "tags": []
          },
          "execution_count": 60
        }
      ]
    },
    {
      "cell_type": "code",
      "metadata": {
        "id": "PEJ8Ocp9VoxX",
        "colab_type": "code",
        "colab": {},
        "outputId": "fcd19298-6eed-4e03-cc4e-7c21441fe407"
      },
      "source": [
        "5 + 10 == 15 or 5 + 11 ==18"
      ],
      "execution_count": 0,
      "outputs": [
        {
          "output_type": "execute_result",
          "data": {
            "text/plain": [
              "True"
            ]
          },
          "metadata": {
            "tags": []
          },
          "execution_count": 61
        }
      ]
    },
    {
      "cell_type": "code",
      "metadata": {
        "id": "Qfth-tnrVoxZ",
        "colab_type": "code",
        "colab": {},
        "outputId": "ee29143c-db87-4148-9b5c-614ce1e384d1"
      },
      "source": [
        "(5 > 10) or (5 <=5) and not(10==12)"
      ],
      "execution_count": 0,
      "outputs": [
        {
          "output_type": "execute_result",
          "data": {
            "text/plain": [
              "True"
            ]
          },
          "metadata": {
            "tags": []
          },
          "execution_count": 62
        }
      ]
    },
    {
      "cell_type": "markdown",
      "metadata": {
        "id": "MAJgEFv6Voxe",
        "colab_type": "text"
      },
      "source": [
        "O interpretador *Python* considera que números diferentes do zero possuem valor lógico `True`, enquanto o zero possui valor lógico `False`. Podemos então operar valores numéricos com operadores lógicos"
      ]
    },
    {
      "cell_type": "markdown",
      "metadata": {
        "id": "S_zymtdTVoxe",
        "colab_type": "text"
      },
      "source": [
        "**obs**: A função `bool` converte valores de tipos não-booleanos para booleanos (coerção de tipos, ou type casting)"
      ]
    },
    {
      "cell_type": "code",
      "metadata": {
        "id": "EEpUeRb4Voxh",
        "colab_type": "code",
        "colab": {},
        "outputId": "09f0d3ba-46b0-4d94-d249-e76c9136d4df"
      },
      "source": [
        "bool(1)"
      ],
      "execution_count": 0,
      "outputs": [
        {
          "output_type": "execute_result",
          "data": {
            "text/plain": [
              "True"
            ]
          },
          "metadata": {
            "tags": []
          },
          "execution_count": 63
        }
      ]
    },
    {
      "cell_type": "code",
      "metadata": {
        "id": "PFbmgZXeVoxl",
        "colab_type": "code",
        "colab": {},
        "outputId": "0ba22207-544a-458a-9ddb-d145d58ef43e"
      },
      "source": [
        "bool(-1)"
      ],
      "execution_count": 0,
      "outputs": [
        {
          "output_type": "execute_result",
          "data": {
            "text/plain": [
              "True"
            ]
          },
          "metadata": {
            "tags": []
          },
          "execution_count": 64
        }
      ]
    },
    {
      "cell_type": "code",
      "metadata": {
        "id": "-tTo9lkgVoxp",
        "colab_type": "code",
        "colab": {},
        "outputId": "918522b8-772d-4c61-c2aa-e4a2f1271cd7"
      },
      "source": [
        "bool(2)"
      ],
      "execution_count": 0,
      "outputs": [
        {
          "output_type": "execute_result",
          "data": {
            "text/plain": [
              "True"
            ]
          },
          "metadata": {
            "tags": []
          },
          "execution_count": 65
        }
      ]
    },
    {
      "cell_type": "code",
      "metadata": {
        "id": "1hFy6z8NVoxs",
        "colab_type": "code",
        "colab": {},
        "outputId": "3ff114a5-c9de-48f2-b20f-107795e4b1ff"
      },
      "source": [
        "bool(0)"
      ],
      "execution_count": 0,
      "outputs": [
        {
          "output_type": "execute_result",
          "data": {
            "text/plain": [
              "False"
            ]
          },
          "metadata": {
            "tags": []
          },
          "execution_count": 66
        }
      ]
    },
    {
      "cell_type": "code",
      "metadata": {
        "id": "eSRfd198Voxv",
        "colab_type": "code",
        "colab": {},
        "outputId": "4a06fcf4-9e0d-4e49-d5ac-d520e7718085"
      },
      "source": [
        "bool(1 and 0)"
      ],
      "execution_count": 0,
      "outputs": [
        {
          "output_type": "execute_result",
          "data": {
            "text/plain": [
              "False"
            ]
          },
          "metadata": {
            "tags": []
          },
          "execution_count": 67
        }
      ]
    },
    {
      "cell_type": "code",
      "metadata": {
        "id": "kGKhV2umVox3",
        "colab_type": "code",
        "colab": {},
        "outputId": "f45438c5-51ee-48f2-fa96-7d0ee3180290"
      },
      "source": [
        "bool(2 and 0)"
      ],
      "execution_count": 0,
      "outputs": [
        {
          "output_type": "execute_result",
          "data": {
            "text/plain": [
              "False"
            ]
          },
          "metadata": {
            "tags": []
          },
          "execution_count": 68
        }
      ]
    },
    {
      "cell_type": "code",
      "metadata": {
        "id": "VzXp53eEVox7",
        "colab_type": "code",
        "colab": {},
        "outputId": "6cbc48b5-36fd-46d7-9623-189170e8a788"
      },
      "source": [
        "bool(1 and 1)"
      ],
      "execution_count": 0,
      "outputs": [
        {
          "output_type": "execute_result",
          "data": {
            "text/plain": [
              "True"
            ]
          },
          "metadata": {
            "tags": []
          },
          "execution_count": 69
        }
      ]
    },
    {
      "cell_type": "code",
      "metadata": {
        "id": "VUIEk1p-VoyB",
        "colab_type": "code",
        "colab": {},
        "outputId": "1a7ce4af-ffdd-4440-a815-c040068c6ba3"
      },
      "source": [
        "bool(1 or 0)"
      ],
      "execution_count": 0,
      "outputs": [
        {
          "output_type": "execute_result",
          "data": {
            "text/plain": [
              "True"
            ]
          },
          "metadata": {
            "tags": []
          },
          "execution_count": 70
        }
      ]
    },
    {
      "cell_type": "code",
      "metadata": {
        "id": "j5tW7gCQVoyE",
        "colab_type": "code",
        "colab": {},
        "outputId": "aac53338-47a7-476b-cd73-5db8f9b24473"
      },
      "source": [
        "bool(1 and not 0)"
      ],
      "execution_count": 0,
      "outputs": [
        {
          "output_type": "execute_result",
          "data": {
            "text/plain": [
              "True"
            ]
          },
          "metadata": {
            "tags": []
          },
          "execution_count": 71
        }
      ]
    },
    {
      "cell_type": "markdown",
      "metadata": {
        "id": "ttM4BtGoVoyH",
        "colab_type": "text"
      },
      "source": [
        "Strings também podem assumir valores lógicos. Neste caso, strings de comprimento maior que 0 equivalem a `True`, enquanto strings de comprimento igual a zero equivalem a `False`."
      ]
    },
    {
      "cell_type": "code",
      "metadata": {
        "id": "ch9NybKKVoyI",
        "colab_type": "code",
        "colab": {},
        "outputId": "121c208e-fb69-4c28-94d8-0917ba3d641c"
      },
      "source": [
        "# strings de comprimento > 0 equivalem a True\n",
        "bool(\"texto\")"
      ],
      "execution_count": 0,
      "outputs": [
        {
          "output_type": "execute_result",
          "data": {
            "text/plain": [
              "True"
            ]
          },
          "metadata": {
            "tags": []
          },
          "execution_count": 72
        }
      ]
    },
    {
      "cell_type": "code",
      "metadata": {
        "id": "XkZyv4nwVoyK",
        "colab_type": "code",
        "colab": {},
        "outputId": "2c7ee90a-827a-4b99-f69e-5cbe5a04e6de"
      },
      "source": [
        "# strings de comprimento 0 equivalem a False\n",
        "bool(\"\")"
      ],
      "execution_count": 0,
      "outputs": [
        {
          "output_type": "execute_result",
          "data": {
            "text/plain": [
              "False"
            ]
          },
          "metadata": {
            "tags": []
          },
          "execution_count": 73
        }
      ]
    },
    {
      "cell_type": "code",
      "metadata": {
        "id": "u77rblpQVoyM",
        "colab_type": "code",
        "colab": {},
        "outputId": "81315aa1-604b-4985-a02e-699d04c2810d"
      },
      "source": [
        "bool(\"Uma string\" and 1)"
      ],
      "execution_count": 0,
      "outputs": [
        {
          "output_type": "execute_result",
          "data": {
            "text/plain": [
              "True"
            ]
          },
          "metadata": {
            "tags": []
          },
          "execution_count": 74
        }
      ]
    },
    {
      "cell_type": "code",
      "metadata": {
        "id": "QIMSuY80VoyP",
        "colab_type": "code",
        "colab": {},
        "outputId": "681fe658-838e-42ad-ebce-f2034b100ab4"
      },
      "source": [
        "bool(\"Uma string\" and \"\")"
      ],
      "execution_count": 0,
      "outputs": [
        {
          "output_type": "execute_result",
          "data": {
            "text/plain": [
              "False"
            ]
          },
          "metadata": {
            "tags": []
          },
          "execution_count": 75
        }
      ]
    },
    {
      "cell_type": "markdown",
      "metadata": {
        "id": "zGajYO61VoyR",
        "colab_type": "text"
      },
      "source": [
        "---"
      ]
    },
    {
      "cell_type": "markdown",
      "metadata": {
        "id": "0bmdfpWzVoyS",
        "colab_type": "text"
      },
      "source": [
        "# 2. Tipos compostos"
      ]
    },
    {
      "cell_type": "markdown",
      "metadata": {
        "id": "mfAuWz0IVoyT",
        "colab_type": "text"
      },
      "source": [
        "Tipos compostos permitem armazenar conjuntos de valores em uma única estrutura."
      ]
    },
    {
      "cell_type": "markdown",
      "metadata": {
        "id": "pFRH4CHrVoyU",
        "colab_type": "text"
      },
      "source": [
        "## Listas"
      ]
    },
    {
      "cell_type": "markdown",
      "metadata": {
        "id": "qDJEFRSwVoyU",
        "colab_type": "text"
      },
      "source": [
        "Listas são representadas pelo tipo `list`. Cada elemento ocupando uma posição dentro da lista é chamado de **item**. O número de itens que uma lista armazena é referido como seu **comprimento**. A princípio não há limites para o comprimento de uma lista, embora listas grandes demais certamente exigem mais recursos computacionais, podendo se tornar intratáveis. Uma característica importante das listas é que elas permitem armazenar itens de tipos diferentes dentro de uma mesma estrutura (embora seja mais usual armazenar itens do mesmo tipo). Podemos por exemplo armazenar dentro de uma única lista *strings*, *booleanos*, *inteiros*, *floats*, e até outras *listas*!"
      ]
    },
    {
      "cell_type": "markdown",
      "metadata": {
        "id": "WN0IbZHjVoyW",
        "colab_type": "text"
      },
      "source": [
        "<img src=\"https://github.com/pedrosiracusa/curso_python_eamc/blob/master/notebooks/img/lists.png?raw=1\" width=400/>"
      ]
    },
    {
      "cell_type": "markdown",
      "metadata": {
        "id": "BrTDXX0eVoyW",
        "colab_type": "text"
      },
      "source": [
        "Na ilustração acima, temos uma lista de comprimento 5, armazenando itens de tipos diferentes. \n",
        "Cada item da lista ocupa um espaço próprio, representado como um \"quadradinho\". Os números abaixo de cada quadrado representam os **índices** de cada item na lista. Os índices nada mais são que endereços numéricos, que nos permitem referenciar elementos em cada posição na lista. Por exemplo, se quisermos nos referir ao número 42, indicaremos o índice (ou endereço) 2.\n",
        "\n",
        "**Obs:** Em *Python*, a numeração dos índices começa em zero, e portanto o primeiro elemento se encontra na posição 0. Da mesma forma, o último item de uma lista de comprimento $n$ se encontra na posição $n-1$."
      ]
    },
    {
      "cell_type": "markdown",
      "metadata": {
        "id": "7XSRF25dVoyW",
        "colab_type": "text"
      },
      "source": [
        "### Criando listas"
      ]
    },
    {
      "cell_type": "markdown",
      "metadata": {
        "id": "IEymnldMVoyX",
        "colab_type": "text"
      },
      "source": [
        "Podemos criar uma lista vazia apenas abrindo e fechando colchetes"
      ]
    },
    {
      "cell_type": "code",
      "metadata": {
        "id": "5CPRVf3-VoyX",
        "colab_type": "code",
        "colab": {},
        "outputId": "a90e782f-24b8-47f3-b979-ddae925d0c60"
      },
      "source": [
        "[]"
      ],
      "execution_count": 0,
      "outputs": [
        {
          "output_type": "execute_result",
          "data": {
            "text/plain": [
              "[]"
            ]
          },
          "metadata": {
            "tags": []
          },
          "execution_count": 76
        }
      ]
    },
    {
      "cell_type": "markdown",
      "metadata": {
        "id": "zJbh6ioMVoyZ",
        "colab_type": "text"
      },
      "source": [
        "ou usando a função `list`"
      ]
    },
    {
      "cell_type": "code",
      "metadata": {
        "id": "o9vIgV52Voya",
        "colab_type": "code",
        "colab": {},
        "outputId": "dbea12c7-c55c-47bd-c376-71b919315f38"
      },
      "source": [
        "list()"
      ],
      "execution_count": 0,
      "outputs": [
        {
          "output_type": "execute_result",
          "data": {
            "text/plain": [
              "[]"
            ]
          },
          "metadata": {
            "tags": []
          },
          "execution_count": 77
        }
      ]
    },
    {
      "cell_type": "markdown",
      "metadata": {
        "id": "CPgc28YbVoyd",
        "colab_type": "text"
      },
      "source": [
        "Podemos adicionar elementos a uma lista já existente usando o método `append`"
      ]
    },
    {
      "cell_type": "code",
      "metadata": {
        "id": "i0p9GME0Voyd",
        "colab_type": "code",
        "colab": {},
        "outputId": "81df908b-3443-46a4-df65-6d5bdcd0a967"
      },
      "source": [
        "l = list()\n",
        "l.append('el1')\n",
        "l.append('el2')\n",
        "l"
      ],
      "execution_count": 0,
      "outputs": [
        {
          "output_type": "execute_result",
          "data": {
            "text/plain": [
              "['el1', 'el2']"
            ]
          },
          "metadata": {
            "tags": []
          },
          "execution_count": 78
        }
      ]
    },
    {
      "cell_type": "markdown",
      "metadata": {
        "id": "A0VVGLMlVoyf",
        "colab_type": "text"
      },
      "source": [
        "e remover elementos usando o método `remove`"
      ]
    },
    {
      "cell_type": "code",
      "metadata": {
        "id": "pKIhNMttVoyf",
        "colab_type": "code",
        "colab": {},
        "outputId": "fa7e07da-1518-4eab-9afc-53d5849069d8"
      },
      "source": [
        "l.remove('el1')\n",
        "l"
      ],
      "execution_count": 0,
      "outputs": [
        {
          "output_type": "execute_result",
          "data": {
            "text/plain": [
              "['el2']"
            ]
          },
          "metadata": {
            "tags": []
          },
          "execution_count": 79
        }
      ]
    },
    {
      "cell_type": "markdown",
      "metadata": {
        "id": "dtof4312Voyk",
        "colab_type": "text"
      },
      "source": [
        "Podemos criar uma lista pré-populada, inserindo os elementos nela contidos entre colchetes, separados por vírgulas. Note que a ordem dos itens permanece a mesma em que foram inseridos durante a criação da lista. Vamos criar a lista dad como exemplo na figura acima"
      ]
    },
    {
      "cell_type": "code",
      "metadata": {
        "id": "dgC4jEpVVoyk",
        "colab_type": "code",
        "colab": {},
        "outputId": "6ff2bad7-72a9-44c5-c302-2c534691de3e"
      },
      "source": [
        "[ \"Olá\", True, 42, 9.87, ['a','b','c']]"
      ],
      "execution_count": 0,
      "outputs": [
        {
          "output_type": "execute_result",
          "data": {
            "text/plain": [
              "['Olá', True, 42, 9.87, ['a', 'b', 'c']]"
            ]
          },
          "metadata": {
            "tags": []
          },
          "execution_count": 80
        }
      ]
    },
    {
      "cell_type": "markdown",
      "metadata": {
        "id": "GIBd9DmCVoyn",
        "colab_type": "text"
      },
      "source": [
        "Podemos também criar uma lista contendo uma sequência de números inteiros (uma *range*), que é criada usando as funções `list` e `range`."
      ]
    },
    {
      "cell_type": "markdown",
      "metadata": {
        "id": "sX8B4bWwVoyo",
        "colab_type": "text"
      },
      "source": [
        "**Obs 1**: Perceba que para efetivamente criar a lista passamos o resultado da função `range` para a função `list`. Isso ocorre porque a função `range` cria um objeto que sabe como produzir a sequência de números, mas não o faz automaticamente.\n",
        "\n",
        "**Obs 2**: A função `range` cria uma sequência de números de 0 a $n-1$, caso apenas um argumento, com valor $n$, seja fornecido. Consulte a documentação da função para ver outras formas de criar uma sequência."
      ]
    },
    {
      "cell_type": "code",
      "metadata": {
        "id": "pooP-WL4Voyo",
        "colab_type": "code",
        "colab": {},
        "outputId": "e56fa421-9fca-4519-f442-9a3ebf128ea4"
      },
      "source": [
        "range(10)"
      ],
      "execution_count": 0,
      "outputs": [
        {
          "output_type": "execute_result",
          "data": {
            "text/plain": [
              "range(0, 10)"
            ]
          },
          "metadata": {
            "tags": []
          },
          "execution_count": 81
        }
      ]
    },
    {
      "cell_type": "code",
      "metadata": {
        "id": "p8IPHXJVVoyr",
        "colab_type": "code",
        "colab": {},
        "outputId": "f79dd838-ccf6-4afd-8599-643326f2f707"
      },
      "source": [
        "list( range(10) )"
      ],
      "execution_count": 0,
      "outputs": [
        {
          "output_type": "execute_result",
          "data": {
            "text/plain": [
              "[0, 1, 2, 3, 4, 5, 6, 7, 8, 9]"
            ]
          },
          "metadata": {
            "tags": []
          },
          "execution_count": 82
        }
      ]
    },
    {
      "cell_type": "markdown",
      "metadata": {
        "id": "jrSDsqMgVoyu",
        "colab_type": "text"
      },
      "source": [
        "#### Compreensão de Listas (List comprehension)"
      ]
    },
    {
      "cell_type": "markdown",
      "metadata": {
        "id": "Va_Q81eCVoyu",
        "colab_type": "text"
      },
      "source": [
        "O método de [**compreensão de listas**](https://docs.python.org/3/tutorial/datastructures.html#list-comprehensions) permite criar listas dinamicamente, usando uma expressão. É portanto uma forma mais eficiente e concisa de se criar listas em *Python*"
      ]
    },
    {
      "cell_type": "markdown",
      "metadata": {
        "id": "vrVy9PfRVoyv",
        "colab_type": "text"
      },
      "source": [
        "Este método usa a seguinte sintaxe:\n",
        "```python\n",
        "[ expressão(item) for item in lista if condição(item) ]\n",
        "```\n",
        "\n",
        "sendo \n",
        "* `lista`: uma lista pré-existente, ou objeto a ser iterado;\n",
        "* `item`: a variável de iteração;\n",
        "* `expressão`: uma expressão que pode usar o valor em `item`;\n",
        "* `condição` (opcional): o resultado da expressão só é incluído na lista final caso a avaliação da condição resulte em `True`."
      ]
    },
    {
      "cell_type": "markdown",
      "metadata": {
        "id": "WmCOGy4AVoyw",
        "colab_type": "text"
      },
      "source": [
        "Por exemplo, podemos criar uma lista contendo os quadrados dos números de 1 a 10"
      ]
    },
    {
      "cell_type": "code",
      "metadata": {
        "id": "nQsgIk45Voyx",
        "colab_type": "code",
        "colab": {},
        "outputId": "a42c0e80-b55d-43b9-d220-d33f8bd24292"
      },
      "source": [
        "[ x**2 for x in range(1,11) ]"
      ],
      "execution_count": 0,
      "outputs": [
        {
          "output_type": "execute_result",
          "data": {
            "text/plain": [
              "[1, 4, 9, 16, 25, 36, 49, 64, 81, 100]"
            ]
          },
          "metadata": {
            "tags": []
          },
          "execution_count": 83
        }
      ]
    },
    {
      "cell_type": "markdown",
      "metadata": {
        "id": "mVjyRHJtVoy2",
        "colab_type": "text"
      },
      "source": [
        "ou os quadrados dos números pares de 1 a 20"
      ]
    },
    {
      "cell_type": "code",
      "metadata": {
        "id": "-n4lgqYUVoy3",
        "colab_type": "code",
        "colab": {},
        "outputId": "66fc0c5f-879b-4910-9e99-f506a540e7e8"
      },
      "source": [
        "[ x**2 for x in range(1,21) if x%2==0 ]"
      ],
      "execution_count": 0,
      "outputs": [
        {
          "output_type": "execute_result",
          "data": {
            "text/plain": [
              "[4, 16, 36, 64, 100, 144, 196, 256, 324, 400]"
            ]
          },
          "metadata": {
            "tags": []
          },
          "execution_count": 84
        }
      ]
    },
    {
      "cell_type": "markdown",
      "metadata": {
        "id": "zYyiYF63Voy6",
        "colab_type": "text"
      },
      "source": [
        "ou até mesmo uma lista contendo listas de comprimento 2.\n",
        "Cada lista interna armazena um número par entre 1 e 20 e seu quadrado"
      ]
    },
    {
      "cell_type": "code",
      "metadata": {
        "id": "cxAASJ7lVoy8",
        "colab_type": "code",
        "colab": {},
        "outputId": "5e8a565c-67dc-4df3-e53a-1a5dc52e2b43"
      },
      "source": [
        "[ [x,x**2] for x in range(1,21) if x%2==0 ]"
      ],
      "execution_count": 0,
      "outputs": [
        {
          "output_type": "execute_result",
          "data": {
            "text/plain": [
              "[[2, 4],\n",
              " [4, 16],\n",
              " [6, 36],\n",
              " [8, 64],\n",
              " [10, 100],\n",
              " [12, 144],\n",
              " [14, 196],\n",
              " [16, 256],\n",
              " [18, 324],\n",
              " [20, 400]]"
            ]
          },
          "metadata": {
            "tags": []
          },
          "execution_count": 85
        }
      ]
    },
    {
      "cell_type": "markdown",
      "metadata": {
        "id": "QTwjU5N6VozC",
        "colab_type": "text"
      },
      "source": [
        "Usando o exemplo acima, podemos criar uma lista de strings formatadas com os números e seus quadrados"
      ]
    },
    {
      "cell_type": "code",
      "metadata": {
        "id": "d5IMmAxkVozD",
        "colab_type": "code",
        "colab": {},
        "outputId": "731137de-7c2f-434d-cc38-606f3b705e9e"
      },
      "source": [
        "[ f\"{x}^2 = {x**2}\" for x in range(1,21) if x%2==0 ]"
      ],
      "execution_count": 0,
      "outputs": [
        {
          "output_type": "execute_result",
          "data": {
            "text/plain": [
              "['2^2 = 4',\n",
              " '4^2 = 16',\n",
              " '6^2 = 36',\n",
              " '8^2 = 64',\n",
              " '10^2 = 100',\n",
              " '12^2 = 144',\n",
              " '14^2 = 196',\n",
              " '16^2 = 256',\n",
              " '18^2 = 324',\n",
              " '20^2 = 400']"
            ]
          },
          "metadata": {
            "tags": []
          },
          "execution_count": 86
        }
      ]
    },
    {
      "cell_type": "markdown",
      "metadata": {
        "id": "racFd5NnVozJ",
        "colab_type": "text"
      },
      "source": [
        "O método de compreensão de listas fornece à linguagem *Python* um grande ganho em expressividade. Podemos criar listas a partir de expressões relativamente complexas em apenas uma linha!"
      ]
    },
    {
      "cell_type": "markdown",
      "metadata": {
        "id": "ilZihKXZVozL",
        "colab_type": "text"
      },
      "source": [
        "### Acessando elementos em uma lista"
      ]
    },
    {
      "cell_type": "markdown",
      "metadata": {
        "id": "r5mXfM0IVozL",
        "colab_type": "text"
      },
      "source": [
        "Agora que temos uma lista, como acessar os elementos dentro dela? Existem basicamente duas formas: a indexação (**indexing**) e o recorte (**slicing**). Por fim, podemos usar também algumas funções aplicáveis a listas. Vejamos cada um deles."
      ]
    },
    {
      "cell_type": "markdown",
      "metadata": {
        "id": "lnXqLCVOVozL",
        "colab_type": "text"
      },
      "source": [
        "#### Indexing"
      ]
    },
    {
      "cell_type": "markdown",
      "metadata": {
        "id": "fzytCfwXVozM",
        "colab_type": "text"
      },
      "source": [
        "Usando a **notação de indexação** `[i]` podemos recuperar o elemento em determinada posição em uma lista. Para isso basta indicar o índice `i` do elemento que queremos entre colchetes, ao lado da nossa lista (ou da variável que a armazena)"
      ]
    },
    {
      "cell_type": "code",
      "metadata": {
        "id": "ghOMpUbFVozM",
        "colab_type": "code",
        "colab": {}
      },
      "source": [
        "myList = ['a','b','c','d','e','f','g','h','i','j']"
      ],
      "execution_count": 0,
      "outputs": []
    },
    {
      "cell_type": "code",
      "metadata": {
        "id": "EmCTzDDsVozP",
        "colab_type": "code",
        "colab": {},
        "outputId": "09366a5d-b612-4c57-b861-732224f09b85"
      },
      "source": [
        "myList[0]"
      ],
      "execution_count": 0,
      "outputs": [
        {
          "output_type": "execute_result",
          "data": {
            "text/plain": [
              "'a'"
            ]
          },
          "metadata": {
            "tags": []
          },
          "execution_count": 88
        }
      ]
    },
    {
      "cell_type": "code",
      "metadata": {
        "id": "7DJhhpvrVozT",
        "colab_type": "code",
        "colab": {},
        "outputId": "15fdeb07-03be-4982-8923-231f409f9a48"
      },
      "source": [
        "myList[9]"
      ],
      "execution_count": 0,
      "outputs": [
        {
          "output_type": "execute_result",
          "data": {
            "text/plain": [
              "'j'"
            ]
          },
          "metadata": {
            "tags": []
          },
          "execution_count": 89
        }
      ]
    },
    {
      "cell_type": "markdown",
      "metadata": {
        "id": "tZNQKOiNVozW",
        "colab_type": "text"
      },
      "source": [
        "Podemos usar números negativos para nos referir a elementos na lista seguindo uma lógica de ordem reversa. Por exemplo, podemos usar o índice -1 para nos referir ao último elemento, -2 ao penúltimo, e assim por diante.\n"
      ]
    },
    {
      "cell_type": "code",
      "metadata": {
        "id": "ZYxJw8r-VozX",
        "colab_type": "code",
        "colab": {},
        "outputId": "02410272-5628-43e3-8dc6-4fa6a2d03aca"
      },
      "source": [
        "myList[-1]"
      ],
      "execution_count": 0,
      "outputs": [
        {
          "output_type": "execute_result",
          "data": {
            "text/plain": [
              "'j'"
            ]
          },
          "metadata": {
            "tags": []
          },
          "execution_count": 90
        }
      ]
    },
    {
      "cell_type": "code",
      "metadata": {
        "id": "cB2B7OeGVozc",
        "colab_type": "code",
        "colab": {},
        "outputId": "fddc0cbb-8636-4f68-fa45-75c9d54e28cd"
      },
      "source": [
        "myList[-2]"
      ],
      "execution_count": 0,
      "outputs": [
        {
          "output_type": "execute_result",
          "data": {
            "text/plain": [
              "'i'"
            ]
          },
          "metadata": {
            "tags": []
          },
          "execution_count": 91
        }
      ]
    },
    {
      "cell_type": "code",
      "metadata": {
        "id": "Igu3THIEVozd",
        "colab_type": "code",
        "colab": {},
        "outputId": "7afaa997-ee2d-442c-996c-1d45e773e190"
      },
      "source": [
        "myList[-10]"
      ],
      "execution_count": 0,
      "outputs": [
        {
          "output_type": "execute_result",
          "data": {
            "text/plain": [
              "'a'"
            ]
          },
          "metadata": {
            "tags": []
          },
          "execution_count": 92
        }
      ]
    },
    {
      "cell_type": "markdown",
      "metadata": {
        "id": "hQkfyOJpVozh",
        "colab_type": "text"
      },
      "source": [
        "Se tentarmos passar um índice que não exista na lista (por exemplo o índice 10 em uma lista de comprimento 10), o interpretador encerrará a execução do programa e nos mostrará uma mensagem de erro"
      ]
    },
    {
      "cell_type": "code",
      "metadata": {
        "id": "Y8xDnP0RVozh",
        "colab_type": "code",
        "colab": {},
        "outputId": "9d05e88f-76e1-4816-b174-5e782026d4cb"
      },
      "source": [
        "myList[10]"
      ],
      "execution_count": 0,
      "outputs": [
        {
          "output_type": "error",
          "ename": "IndexError",
          "evalue": "list index out of range",
          "traceback": [
            "\u001b[0;31m---------------------------------------------------------------------------\u001b[0m",
            "\u001b[0;31mIndexError\u001b[0m                                Traceback (most recent call last)",
            "\u001b[0;32m<ipython-input-94-bb7b0cf4a394>\u001b[0m in \u001b[0;36m<module>\u001b[0;34m()\u001b[0m\n\u001b[0;32m----> 1\u001b[0;31m \u001b[0mmyList\u001b[0m\u001b[0;34m[\u001b[0m\u001b[0;36m10\u001b[0m\u001b[0;34m]\u001b[0m\u001b[0;34m\u001b[0m\u001b[0m\n\u001b[0m",
            "\u001b[0;31mIndexError\u001b[0m: list index out of range"
          ]
        }
      ]
    },
    {
      "cell_type": "markdown",
      "metadata": {
        "id": "V7n5UJdtVozj",
        "colab_type": "text"
      },
      "source": [
        "Podemos também **atualizar** valores contidos na lista usando seu índice (posição na lista)"
      ]
    },
    {
      "cell_type": "code",
      "metadata": {
        "id": "l9VAaKEaVozk",
        "colab_type": "code",
        "colab": {}
      },
      "source": [
        "myList[0] = 'A'"
      ],
      "execution_count": 0,
      "outputs": []
    },
    {
      "cell_type": "code",
      "metadata": {
        "id": "0lGubrDuVozl",
        "colab_type": "code",
        "colab": {}
      },
      "source": [
        "myList[1] = 'B'"
      ],
      "execution_count": 0,
      "outputs": []
    },
    {
      "cell_type": "code",
      "metadata": {
        "id": "0_E94FcuVozo",
        "colab_type": "code",
        "colab": {},
        "outputId": "87aa4c39-3fe4-4b06-8357-08a3e651ee84"
      },
      "source": [
        "myList"
      ],
      "execution_count": 0,
      "outputs": [
        {
          "output_type": "execute_result",
          "data": {
            "text/plain": [
              "['A', 'B', 'c', 'd', 'e', 'f', 'g', 'h', 'i', 'j']"
            ]
          },
          "metadata": {
            "tags": []
          },
          "execution_count": 97
        }
      ]
    },
    {
      "cell_type": "markdown",
      "metadata": {
        "heading_collapsed": true,
        "id": "8iAIdo9aVozq",
        "colab_type": "text"
      },
      "source": [
        "#### Slicing"
      ]
    },
    {
      "cell_type": "markdown",
      "metadata": {
        "hidden": true,
        "id": "S3QmH9pkVozq",
        "colab_type": "text"
      },
      "source": [
        "Usando a **notação de recorte** `[i:j]` podemos recuperar um conjunto de elementos de uma lista. A diferença para a indexação é que o recorte retorna uma sublista (um pedaço, ou *slice* da lista original), em vez de um único elemento. Para isso indicamos, entre colchetes e separados por dois pontos, dois números: o primeiro (`i`) é o índice do elemento no começo do recorte; o segundo (`j`) é o índice do elemento que delimita o fim do pedaço (não-inclusivo). "
      ]
    },
    {
      "cell_type": "code",
      "metadata": {
        "hidden": true,
        "id": "uMugiDFlVozr",
        "colab_type": "code",
        "colab": {}
      },
      "source": [
        "myList = ['a','b','c','d','e','f','g','h','i','j']"
      ],
      "execution_count": 0,
      "outputs": []
    },
    {
      "cell_type": "code",
      "metadata": {
        "hidden": true,
        "id": "75Dzl8tBVozt",
        "colab_type": "code",
        "colab": {},
        "outputId": "c7884786-647c-4b64-ad3c-851e9cba6767"
      },
      "source": [
        "myList[1:6]"
      ],
      "execution_count": 0,
      "outputs": [
        {
          "output_type": "execute_result",
          "data": {
            "text/plain": [
              "['b', 'c', 'd', 'e', 'f']"
            ]
          },
          "metadata": {
            "tags": []
          },
          "execution_count": 99
        }
      ]
    },
    {
      "cell_type": "markdown",
      "metadata": {
        "hidden": true,
        "id": "dwQEySd9Vozu",
        "colab_type": "text"
      },
      "source": [
        "Podemos omitir o número `i` ou `j` se quisermos que o pedaço comece do primeiro elemento da lista ou que termine no último elemento da lista, respectivamente."
      ]
    },
    {
      "cell_type": "code",
      "metadata": {
        "hidden": true,
        "id": "WOXEH1qBVozw",
        "colab_type": "code",
        "colab": {},
        "outputId": "5d9c6a76-d51e-4140-df20-254e0680c143"
      },
      "source": [
        "myList[:6]"
      ],
      "execution_count": 0,
      "outputs": [
        {
          "output_type": "execute_result",
          "data": {
            "text/plain": [
              "['a', 'b', 'c', 'd', 'e', 'f']"
            ]
          },
          "metadata": {
            "tags": []
          },
          "execution_count": 100
        }
      ]
    },
    {
      "cell_type": "code",
      "metadata": {
        "hidden": true,
        "id": "euoCTMdoVozy",
        "colab_type": "code",
        "colab": {},
        "outputId": "e3f9c791-22bc-436d-f10b-58508bb0c363"
      },
      "source": [
        "myList[4:]"
      ],
      "execution_count": 0,
      "outputs": [
        {
          "output_type": "execute_result",
          "data": {
            "text/plain": [
              "['e', 'f', 'g', 'h', 'i', 'j']"
            ]
          },
          "metadata": {
            "tags": []
          },
          "execution_count": 101
        }
      ]
    },
    {
      "cell_type": "markdown",
      "metadata": {
        "hidden": true,
        "id": "qZP3qmhaVoz0",
        "colab_type": "text"
      },
      "source": [
        "Embora pouco usual, podemos definir o **passo** do recorte alterando a notação de recorte para `[i:j:k]`. Neste caso, `k` é o tamanho do passo, ou seja, o número de elementos que devem ser pulados."
      ]
    },
    {
      "cell_type": "code",
      "metadata": {
        "hidden": true,
        "id": "-qaf8_OaVo0E",
        "colab_type": "code",
        "colab": {},
        "outputId": "83ed2e14-ebfb-42c1-f50d-fca85760aaa4"
      },
      "source": [
        "myList[2:8:2]"
      ],
      "execution_count": 0,
      "outputs": [
        {
          "output_type": "execute_result",
          "data": {
            "text/plain": [
              "['c', 'e', 'g']"
            ]
          },
          "metadata": {
            "tags": []
          },
          "execution_count": 102
        }
      ]
    },
    {
      "cell_type": "code",
      "metadata": {
        "hidden": true,
        "id": "k2bpmSHBVo0F",
        "colab_type": "code",
        "colab": {},
        "outputId": "afea2c6e-2654-4008-b5ab-e75e0a18e442"
      },
      "source": [
        "myList[:8:2]"
      ],
      "execution_count": 0,
      "outputs": [
        {
          "output_type": "execute_result",
          "data": {
            "text/plain": [
              "['a', 'c', 'e', 'g']"
            ]
          },
          "metadata": {
            "tags": []
          },
          "execution_count": 103
        }
      ]
    },
    {
      "cell_type": "code",
      "metadata": {
        "hidden": true,
        "id": "FgMNhP96Vo0I",
        "colab_type": "code",
        "colab": {},
        "outputId": "719a8960-2139-482c-dd83-d40863e0f866"
      },
      "source": [
        "myList[2::2]"
      ],
      "execution_count": 0,
      "outputs": [
        {
          "output_type": "execute_result",
          "data": {
            "text/plain": [
              "['c', 'e', 'g', 'i']"
            ]
          },
          "metadata": {
            "tags": []
          },
          "execution_count": 104
        }
      ]
    },
    {
      "cell_type": "code",
      "metadata": {
        "hidden": true,
        "id": "eOktQ8AOVo0L",
        "colab_type": "code",
        "colab": {},
        "outputId": "a5778c30-a806-4053-ce5b-6e5398307806"
      },
      "source": [
        "myList[::2]"
      ],
      "execution_count": 0,
      "outputs": [
        {
          "output_type": "execute_result",
          "data": {
            "text/plain": [
              "['a', 'c', 'e', 'g', 'i']"
            ]
          },
          "metadata": {
            "tags": []
          },
          "execution_count": 105
        }
      ]
    },
    {
      "cell_type": "markdown",
      "metadata": {
        "heading_collapsed": true,
        "id": "JgRb4V9wVo0N",
        "colab_type": "text"
      },
      "source": [
        "#### Funções aplicáveis a listas"
      ]
    },
    {
      "cell_type": "markdown",
      "metadata": {
        "hidden": true,
        "id": "bMAkGAeTVo0N",
        "colab_type": "text"
      },
      "source": [
        "Existem algumas funções permitem obter elementos com características específicas de uma lista. Por exemplo, poderíamos querer consultar quais os elemento com maior e menor valor dentro da lista. Para isso, podemos usar as funções `max` e `min`, respectivamente"
      ]
    },
    {
      "cell_type": "code",
      "metadata": {
        "hidden": true,
        "id": "4L8LyIFZVo0O",
        "colab_type": "code",
        "colab": {}
      },
      "source": [
        "myList = [1,3,10,-4,12,7,42,-3,0,1]"
      ],
      "execution_count": 0,
      "outputs": []
    },
    {
      "cell_type": "code",
      "metadata": {
        "hidden": true,
        "id": "f5uzovPcVo0Q",
        "colab_type": "code",
        "colab": {},
        "outputId": "2d74bf3d-96f5-4b87-ab96-68c3c086aa70"
      },
      "source": [
        "max(myList)"
      ],
      "execution_count": 0,
      "outputs": [
        {
          "output_type": "execute_result",
          "data": {
            "text/plain": [
              "42"
            ]
          },
          "metadata": {
            "tags": []
          },
          "execution_count": 107
        }
      ]
    },
    {
      "cell_type": "code",
      "metadata": {
        "hidden": true,
        "id": "1v46azZ_Vo0S",
        "colab_type": "code",
        "colab": {},
        "outputId": "b1ba7335-8d50-4219-ee43-9e3c86ef1334"
      },
      "source": [
        "min(myList)"
      ],
      "execution_count": 0,
      "outputs": [
        {
          "output_type": "execute_result",
          "data": {
            "text/plain": [
              "-4"
            ]
          },
          "metadata": {
            "tags": []
          },
          "execution_count": 108
        }
      ]
    },
    {
      "cell_type": "markdown",
      "metadata": {
        "hidden": true,
        "id": "YZcoAZlwVo0T",
        "colab_type": "text"
      },
      "source": [
        "E se precisarmos usar a lista em ordem inversa? A função `reversed` espera receber uma lista e retorna um objeto iterador, que pode ser interpretado como uma cópia da lista original porém com os elementos em ordem inversa"
      ]
    },
    {
      "cell_type": "code",
      "metadata": {
        "hidden": true,
        "id": "Dkqz1dB_Vo0T",
        "colab_type": "code",
        "colab": {},
        "outputId": "d1b8f21a-ff67-4cc7-ef38-684dec894e93"
      },
      "source": [
        "reversed(myList)"
      ],
      "execution_count": 0,
      "outputs": [
        {
          "output_type": "execute_result",
          "data": {
            "text/plain": [
              "<list_reverseiterator at 0x7f4157779278>"
            ]
          },
          "metadata": {
            "tags": []
          },
          "execution_count": 109
        }
      ]
    },
    {
      "cell_type": "code",
      "metadata": {
        "hidden": true,
        "id": "9nqd6uEYVo0V",
        "colab_type": "code",
        "colab": {},
        "outputId": "cb1d0897-2bdf-4cf3-e15d-51f369b4cb64"
      },
      "source": [
        "list(reversed(myList))"
      ],
      "execution_count": 0,
      "outputs": [
        {
          "output_type": "execute_result",
          "data": {
            "text/plain": [
              "[1, 0, -3, 42, 7, 12, -4, 10, 3, 1]"
            ]
          },
          "metadata": {
            "tags": []
          },
          "execution_count": 110
        }
      ]
    },
    {
      "cell_type": "markdown",
      "metadata": {
        "hidden": true,
        "id": "P8_kAWbiVo0X",
        "colab_type": "text"
      },
      "source": [
        "Finalmente, podemos verificar se um elemento com determinado valor existe dentro de uma lista. Para isso, construímos uma expressão utilizando o operador `in`. Caso o elemento exista na lista, a expressão retornará o valor booleano `True` e, caso contrário, `False`"
      ]
    },
    {
      "cell_type": "code",
      "metadata": {
        "hidden": true,
        "id": "dHeZWJGtVo0X",
        "colab_type": "code",
        "colab": {},
        "outputId": "4839f24e-f3ad-4f7d-bdd9-5e1fcab03c54"
      },
      "source": [
        "42 in myList"
      ],
      "execution_count": 0,
      "outputs": [
        {
          "output_type": "execute_result",
          "data": {
            "text/plain": [
              "True"
            ]
          },
          "metadata": {
            "tags": []
          },
          "execution_count": 111
        }
      ]
    },
    {
      "cell_type": "code",
      "metadata": {
        "hidden": true,
        "id": "X67VvbllVo0b",
        "colab_type": "code",
        "colab": {},
        "outputId": "8ca6a73f-3884-49bc-a25e-39679aaba65b"
      },
      "source": [
        "-42 in myList"
      ],
      "execution_count": 0,
      "outputs": [
        {
          "output_type": "execute_result",
          "data": {
            "text/plain": [
              "False"
            ]
          },
          "metadata": {
            "tags": []
          },
          "execution_count": 112
        }
      ]
    },
    {
      "cell_type": "markdown",
      "metadata": {
        "id": "4vbjp7RCVo0d",
        "colab_type": "text"
      },
      "source": [
        "### Combinando listas"
      ]
    },
    {
      "cell_type": "markdown",
      "metadata": {
        "id": "w_utpwQ9Vo0e",
        "colab_type": "text"
      },
      "source": [
        "É possível construir listas facilmente a partir de outras. Para isso usamos o operador `+`, que pode ser usado para concatenar listas. \n",
        "**obs**: Listas só podem ser somadas a listas! Portanto é fundamental que ambos os operandos sejam listas"
      ]
    },
    {
      "cell_type": "code",
      "metadata": {
        "id": "noaWzhT5Vo0f",
        "colab_type": "code",
        "colab": {},
        "outputId": "a2c239ae-341a-424b-fd0c-a24062fcad9d"
      },
      "source": [
        "['a','b','c'] + [1, 2, 3] + [True, False]"
      ],
      "execution_count": 0,
      "outputs": [
        {
          "output_type": "execute_result",
          "data": {
            "text/plain": [
              "['a', 'b', 'c', 1, 2, 3, True, False]"
            ]
          },
          "metadata": {
            "tags": []
          },
          "execution_count": 113
        }
      ]
    },
    {
      "cell_type": "code",
      "metadata": {
        "id": "aCa7V5BQVo0i",
        "colab_type": "code",
        "colab": {},
        "outputId": "9825e376-ce02-4cc6-b9f3-a6e8d2e4eb04"
      },
      "source": [
        "lista1 = ['a','b']\n",
        "lista2 = [42, 43]\n",
        "\n",
        "lista1 + lista2"
      ],
      "execution_count": 0,
      "outputs": [
        {
          "output_type": "execute_result",
          "data": {
            "text/plain": [
              "['a', 'b', 42, 43]"
            ]
          },
          "metadata": {
            "tags": []
          },
          "execution_count": 114
        }
      ]
    },
    {
      "cell_type": "markdown",
      "metadata": {
        "id": "0Xwh6LFrVo0l",
        "colab_type": "text"
      },
      "source": [
        "### Emparelhando listas com a função *Zip*"
      ]
    },
    {
      "cell_type": "markdown",
      "metadata": {
        "id": "XbrCh0sYVo0l",
        "colab_type": "text"
      },
      "source": [
        "A função `zip` emparelha duas ou mais listas (ou outros elementos iteráveis), retornando um iterador (*zip object*) com o mesmo comprimento do menor dos iterávei usados para construí-lo. \n",
        "Porém, usualmente aplicamos a função a iteráveis de mesmo comprimento.\n",
        "Cada elemento dentro do iterador *zip* é uma n-tupla, sendo n o número de iteráveis passados para a função"
      ]
    },
    {
      "cell_type": "markdown",
      "metadata": {
        "id": "NWqX7HvaVo0l",
        "colab_type": "text"
      },
      "source": [
        "Podemos emparelhar duas listas de mesmo comprimento. Como ela retorna um [iterador](https://docs.python.org/3/library/stdtypes.html#typeiter), precisamos usar a função `list` caso queiramos que o resultado seja convertido em uma lista "
      ]
    },
    {
      "cell_type": "code",
      "metadata": {
        "id": "3fSmaA2ZVo0m",
        "colab_type": "code",
        "colab": {},
        "outputId": "1679f8a8-a63a-49a2-bd8a-0233092c6db6"
      },
      "source": [
        "l1 = [  1,    7,   4,   0,   3 ]\n",
        "l2 = [ 'a', 'b', 'c', 'd', 'e' ]\n",
        "\n",
        "list( zip(l1,l2) )"
      ],
      "execution_count": 0,
      "outputs": [
        {
          "output_type": "execute_result",
          "data": {
            "text/plain": [
              "[(1, 'a'), (7, 'b'), (4, 'c'), (0, 'd'), (3, 'e')]"
            ]
          },
          "metadata": {
            "tags": []
          },
          "execution_count": 1
        }
      ]
    },
    {
      "cell_type": "markdown",
      "metadata": {
        "id": "YZtQGIdXVo0p",
        "colab_type": "text"
      },
      "source": [
        "ou de comprimentos diferentes"
      ]
    },
    {
      "cell_type": "code",
      "metadata": {
        "id": "nVDGbqzhVo0q",
        "colab_type": "code",
        "colab": {},
        "outputId": "5aae3dfb-6291-4c76-8c2b-a97d082af9bc"
      },
      "source": [
        "l1 = [  1,    7,   4,   0,   3 ]\n",
        "l2 = [ 'a', 'b', 'c' ]\n",
        "\n",
        "list( zip(l1,l2) )"
      ],
      "execution_count": 0,
      "outputs": [
        {
          "output_type": "execute_result",
          "data": {
            "text/plain": [
              "[(1, 'a'), (7, 'b'), (4, 'c')]"
            ]
          },
          "metadata": {
            "tags": []
          },
          "execution_count": 2
        }
      ]
    },
    {
      "cell_type": "markdown",
      "metadata": {
        "id": "IxFQxP_vVo0s",
        "colab_type": "text"
      },
      "source": [
        "Também podemos emparelhar mais que apenas duas listas"
      ]
    },
    {
      "cell_type": "code",
      "metadata": {
        "id": "_U-C3ZuGVo0t",
        "colab_type": "code",
        "colab": {},
        "outputId": "f095333c-4c03-4ff0-ed87-e89c8d177b98"
      },
      "source": [
        "l1 = [  1,    7,   4,   0,   3 ]\n",
        "l2 = [ 'a', 'b', 'c', 'd', 'e' ]\n",
        "l3 = [ 'v', 'w', 'x', 'y', 'z' ]\n",
        "\n",
        "list( zip(l1,l2,l3) )"
      ],
      "execution_count": 0,
      "outputs": [
        {
          "output_type": "execute_result",
          "data": {
            "text/plain": [
              "[(1, 'a', 'v'), (7, 'b', 'w'), (4, 'c', 'x'), (0, 'd', 'y'), (3, 'e', 'z')]"
            ]
          },
          "metadata": {
            "tags": []
          },
          "execution_count": 3
        }
      ]
    },
    {
      "cell_type": "markdown",
      "metadata": {
        "id": "fO5BZNRjVo0w",
        "colab_type": "text"
      },
      "source": [
        "---"
      ]
    },
    {
      "cell_type": "markdown",
      "metadata": {
        "heading_collapsed": true,
        "id": "1aC4UdtCVo0x",
        "colab_type": "text"
      },
      "source": [
        "## Tuplas"
      ]
    },
    {
      "cell_type": "markdown",
      "metadata": {
        "hidden": true,
        "id": "9SFWvZh2Vo0x",
        "colab_type": "text"
      },
      "source": [
        "Tuplas são representadas pelo tipo `tuple`, e armazenam conjuntos ordenados de valores. \n",
        "Portanto, assim como nas listas, a ordenação dos valores importa.\n",
        "A principal característica das tuplas que as diferencia das listas é que tuplas são **imutáveis**.\n",
        "Isso significa que não é possível adicionar ou remover elementos após sua criação"
      ]
    },
    {
      "cell_type": "markdown",
      "metadata": {
        "hidden": true,
        "id": "USw3cUCEVo0x",
        "colab_type": "text"
      },
      "source": [
        "### Criando tuplas"
      ]
    },
    {
      "cell_type": "markdown",
      "metadata": {
        "hidden": true,
        "id": "ztDMTiDpVo0x",
        "colab_type": "text"
      },
      "source": [
        "A criação de tuplas é bastante similar à criação de listas. Porém, todos os elementos que a compõem devem ser inseridos durante sua criação.\n",
        "Para isso, ordenamos os $n$ valores a compor a n-tupla entre parênteses"
      ]
    },
    {
      "cell_type": "markdown",
      "metadata": {
        "hidden": true,
        "id": "8OJTwRH9Vo0y",
        "colab_type": "text"
      },
      "source": [
        "Tupla com apenas 1 elemento (1-tupla):"
      ]
    },
    {
      "cell_type": "code",
      "metadata": {
        "hidden": true,
        "id": "hmtZywlHVo0y",
        "colab_type": "code",
        "colab": {},
        "outputId": "65be4aa5-4cc0-4a7c-fa62-d03a373818df"
      },
      "source": [
        "('el1',)"
      ],
      "execution_count": 0,
      "outputs": [
        {
          "output_type": "execute_result",
          "data": {
            "text/plain": [
              "('el1',)"
            ]
          },
          "metadata": {
            "tags": []
          },
          "execution_count": 115
        }
      ]
    },
    {
      "cell_type": "markdown",
      "metadata": {
        "hidden": true,
        "id": "Br08z86vVo01",
        "colab_type": "text"
      },
      "source": [
        "Par ordenado (2-tupla):"
      ]
    },
    {
      "cell_type": "code",
      "metadata": {
        "hidden": true,
        "id": "iiXcnrLGVo01",
        "colab_type": "code",
        "colab": {},
        "outputId": "528add95-ff6a-427e-a7fb-158bb7c5aebc"
      },
      "source": [
        "('el1','el2')"
      ],
      "execution_count": 0,
      "outputs": [
        {
          "output_type": "execute_result",
          "data": {
            "text/plain": [
              "('el1', 'el2')"
            ]
          },
          "metadata": {
            "tags": []
          },
          "execution_count": 116
        }
      ]
    },
    {
      "cell_type": "markdown",
      "metadata": {
        "hidden": true,
        "id": "i6vjDcAzVo04",
        "colab_type": "text"
      },
      "source": [
        "Tripla ordenada (3-tupla):"
      ]
    },
    {
      "cell_type": "code",
      "metadata": {
        "hidden": true,
        "id": "iCeMw8ClVo05",
        "colab_type": "code",
        "colab": {},
        "outputId": "e6d382bd-4a31-4d65-cbb1-3cdd786d1c5c"
      },
      "source": [
        "('el1','el2','el3')"
      ],
      "execution_count": 0,
      "outputs": [
        {
          "output_type": "execute_result",
          "data": {
            "text/plain": [
              "('el1', 'el2', 'el3')"
            ]
          },
          "metadata": {
            "tags": []
          },
          "execution_count": 117
        }
      ]
    },
    {
      "cell_type": "markdown",
      "metadata": {
        "hidden": true,
        "id": "Gt8sbMJzVo08",
        "colab_type": "text"
      },
      "source": [
        "e assim por diante..."
      ]
    },
    {
      "cell_type": "markdown",
      "metadata": {
        "hidden": true,
        "id": "Bj6QfnUgVo08",
        "colab_type": "text"
      },
      "source": [
        "Podemos também usar a função `tuple` para converter uma lista (ou objeto iterável) em uma tupla. Podemos por exemplo criar uma 5-tupla com números de 0 a 4 usando a função `range`"
      ]
    },
    {
      "cell_type": "code",
      "metadata": {
        "hidden": true,
        "id": "IyjccPbnVo08",
        "colab_type": "code",
        "colab": {},
        "outputId": "8e727e93-2cef-4395-c4dc-ac21888a4e4c"
      },
      "source": [
        "tuple(range(5))"
      ],
      "execution_count": 0,
      "outputs": [
        {
          "output_type": "execute_result",
          "data": {
            "text/plain": [
              "(0, 1, 2, 3, 4)"
            ]
          },
          "metadata": {
            "tags": []
          },
          "execution_count": 118
        }
      ]
    },
    {
      "cell_type": "markdown",
      "metadata": {
        "hidden": true,
        "id": "XRD1ItDMVo0-",
        "colab_type": "text"
      },
      "source": [
        "ou transformar uma lista em uma tupla"
      ]
    },
    {
      "cell_type": "code",
      "metadata": {
        "hidden": true,
        "id": "GaKQeIxxVo0_",
        "colab_type": "code",
        "colab": {},
        "outputId": "9b3723c9-81c8-4e43-ba9b-897e6edf4dce"
      },
      "source": [
        "l = [\"Luke\", \"Skywalker\", 28, \"Jedi\"]\n",
        "tuple( l )"
      ],
      "execution_count": 0,
      "outputs": [
        {
          "output_type": "execute_result",
          "data": {
            "text/plain": [
              "('Luke', 'Skywalker', 28, 'Jedi')"
            ]
          },
          "metadata": {
            "tags": []
          },
          "execution_count": 119
        }
      ]
    },
    {
      "cell_type": "markdown",
      "metadata": {
        "hidden": true,
        "id": "vdXgjdA2Vo1B",
        "colab_type": "text"
      },
      "source": [
        "### Acessando elementos em uma tupla"
      ]
    },
    {
      "cell_type": "markdown",
      "metadata": {
        "hidden": true,
        "id": "0mSvJuIdVo1C",
        "colab_type": "text"
      },
      "source": [
        "ou at"
      ]
    },
    {
      "cell_type": "markdown",
      "metadata": {
        "hidden": true,
        "id": "qN9FnccOVo1C",
        "colab_type": "text"
      },
      "source": [
        "A notação usada pra acessar elementos em uma tupla é idêntica à de listas. Usamos um índice posicional, que varia de $0$ a $n-1$, para uma tupla de comprimento $n$"
      ]
    },
    {
      "cell_type": "markdown",
      "metadata": {
        "hidden": true,
        "id": "-Gt2QEl9Vo1D",
        "colab_type": "text"
      },
      "source": [
        "### Combinando tuplas"
      ]
    },
    {
      "cell_type": "markdown",
      "metadata": {
        "hidden": true,
        "id": "JO7pm4hZVo1D",
        "colab_type": "text"
      },
      "source": [
        "Assim como em listas, podemos combinar tuplas usando o operador `+`"
      ]
    },
    {
      "cell_type": "code",
      "metadata": {
        "hidden": true,
        "id": "ENUNMqJoVo1D",
        "colab_type": "code",
        "colab": {},
        "outputId": "4be9a4d8-b20e-47f9-87d0-88379a0712b8"
      },
      "source": [
        "(0,1,2,3) + ('a','b','c','d')"
      ],
      "execution_count": 0,
      "outputs": [
        {
          "output_type": "execute_result",
          "data": {
            "text/plain": [
              "(0, 1, 2, 3, 'a', 'b', 'c', 'd')"
            ]
          },
          "metadata": {
            "tags": []
          },
          "execution_count": 120
        }
      ]
    },
    {
      "cell_type": "markdown",
      "metadata": {
        "hidden": true,
        "id": "R1bAlJQpVo1F",
        "colab_type": "text"
      },
      "source": [
        "### Atualizando tuplas"
      ]
    },
    {
      "cell_type": "markdown",
      "metadata": {
        "hidden": true,
        "id": "KTf2lBFpVo1G",
        "colab_type": "text"
      },
      "source": [
        "Tuplas são **imutáveis**, portanto NÃO podem ser atualizadas.\n",
        "Mas em alguns casos podemos simular uma atualização criando novas tuplas tomando como base tuplas pré-existentes.\n",
        "Considere a tupla-base abaixo"
      ]
    },
    {
      "cell_type": "code",
      "metadata": {
        "hidden": true,
        "id": "wOi-VQcCVo1G",
        "colab_type": "code",
        "colab": {}
      },
      "source": [
        ""
      ],
      "execution_count": 0,
      "outputs": []
    },
    {
      "cell_type": "code",
      "metadata": {
        "hidden": true,
        "id": "4Fmip1LCVo1H",
        "colab_type": "code",
        "colab": {}
      },
      "source": [
        "tupla_base = (0,1,2,3)"
      ],
      "execution_count": 0,
      "outputs": []
    },
    {
      "cell_type": "markdown",
      "metadata": {
        "hidden": true,
        "id": "CH27L6BZVo1J",
        "colab_type": "text"
      },
      "source": [
        "##### \"Adicionando\" um novo elemento"
      ]
    },
    {
      "cell_type": "markdown",
      "metadata": {
        "hidden": true,
        "id": "nz4-jWOgVo1L",
        "colab_type": "text"
      },
      "source": [
        "Podemos criar uma nova tupla contendo todos os elementos da tupla-base mais um novo elemento. Neste caso fazemos uma combinação de tuplas"
      ]
    },
    {
      "cell_type": "code",
      "metadata": {
        "hidden": true,
        "id": "ftm_tEfgVo1M",
        "colab_type": "code",
        "colab": {},
        "outputId": "24b5172c-e3dd-4ca4-ba68-ed48fc706c3f"
      },
      "source": [
        "t1 = tupla_base + (4,)\n",
        "t1"
      ],
      "execution_count": 0,
      "outputs": [
        {
          "output_type": "execute_result",
          "data": {
            "text/plain": [
              "(0, 1, 2, 3, 4)"
            ]
          },
          "metadata": {
            "tags": []
          },
          "execution_count": 122
        }
      ]
    },
    {
      "cell_type": "markdown",
      "metadata": {
        "hidden": true,
        "id": "LWOCLgyCVo1P",
        "colab_type": "text"
      },
      "source": [
        "##### \"Removendo\" o último elemento\n",
        "Podemos criar uma nova tupla contendo todos os elementos da tupla-base exceto o último"
      ]
    },
    {
      "cell_type": "code",
      "metadata": {
        "hidden": true,
        "id": "bfPa7-bOVo1Q",
        "colab_type": "code",
        "colab": {},
        "outputId": "64fbc6f0-6a2d-4672-cfa5-5b6065304a30"
      },
      "source": [
        "t1 = tupla_base[:-1]\n",
        "t1"
      ],
      "execution_count": 0,
      "outputs": [
        {
          "output_type": "execute_result",
          "data": {
            "text/plain": [
              "(0, 1, 2)"
            ]
          },
          "metadata": {
            "tags": []
          },
          "execution_count": 123
        }
      ]
    },
    {
      "cell_type": "markdown",
      "metadata": {
        "hidden": true,
        "id": "hC86BB1MVo1S",
        "colab_type": "text"
      },
      "source": [
        "---"
      ]
    },
    {
      "cell_type": "markdown",
      "metadata": {
        "id": "RaLBEnjOVo1S",
        "colab_type": "text"
      },
      "source": [
        "## Dicionários"
      ]
    },
    {
      "cell_type": "markdown",
      "metadata": {
        "id": "90kWiJIjVo1S",
        "colab_type": "text"
      },
      "source": [
        "Dicionários são representados pelo tipo `dict` e, assim como listas e tuplas, são estruturas de dados que permitem armazenar conjuntos de valores. A principal diferença é que os valores são **indexados explicitamente** e **não são ordenados**.\n",
        "Dicionários possuem **chaves** (*keys*), que referenciam os **valores** (*values*) armazenados em memória.\n",
        "Dicionários são também conhecidos como *mapas* ou *índices*.\n",
        "\n",
        "**Obs 1**: As chaves não precisam ser necessariamente numéricas, podendo ser usado qualquer objeto \"hasheável\" ([*hashable*](https://docs.python.org/3/glossary.html)). Podem ser chaves, por exemplo, valores dos tipos *int*, *float*, *string*, *boolean* ou tuplas. Já listas e dicionários não podem ser usados como chaves. No entanto, normalmente criamos dicionários cujas chaves possuem o mesmo tipo.\n",
        "\n",
        "**Obs 2**: Cada chave deve ser única no dicionário e referenciar um único valor. Entretanto, um determinado valor pode ser referenciado por múltiplas chaves."
      ]
    },
    {
      "cell_type": "markdown",
      "metadata": {
        "id": "tJEHUeV8Vo1T",
        "colab_type": "text"
      },
      "source": [
        "<img src=\"https://github.com/pedrosiracusa/curso_python_eamc/blob/master/notebooks/img/dicts.png?raw=1\" width=250/>"
      ]
    },
    {
      "cell_type": "markdown",
      "metadata": {
        "id": "XBJmxKbCVo1T",
        "colab_type": "text"
      },
      "source": [
        "Na ilustração acima, temos um dicionário composto por 5 chaves, que referenciam 4 valores distintos.\n",
        "Cada valor ocupa um espaço próprio na memória, representado como o retângulo que o contém.\n",
        "Diferentemente de listas, os índices **não são posicionais**, o que significa que é impossível resgatar elementos com base em sua posição no dicionário. Em vez disso usamos as chaves como índice para cada valor.\n",
        "Por exemplo, se quisermos resgatar o número 42, podemos indicar a chave `0` ou a chave `'k9'`."
      ]
    },
    {
      "cell_type": "markdown",
      "metadata": {
        "id": "7qv3NBZ2Vo1T",
        "colab_type": "text"
      },
      "source": [
        "### Criando dicionários"
      ]
    },
    {
      "cell_type": "markdown",
      "metadata": {
        "id": "m3UWKtz4Vo1U",
        "colab_type": "text"
      },
      "source": [
        "Podemos criar um dicionário vazio simplesmente abrindo e fechando chaves"
      ]
    },
    {
      "cell_type": "code",
      "metadata": {
        "id": "idpSB5tuVo1V",
        "colab_type": "code",
        "colab": {},
        "outputId": "270893f1-ae61-455a-f53c-9768c1e4a9ed"
      },
      "source": [
        "{}"
      ],
      "execution_count": 0,
      "outputs": [
        {
          "output_type": "execute_result",
          "data": {
            "text/plain": [
              "{}"
            ]
          },
          "metadata": {
            "tags": []
          },
          "execution_count": 124
        }
      ]
    },
    {
      "cell_type": "markdown",
      "metadata": {
        "id": "1sSlgY4uVo1Y",
        "colab_type": "text"
      },
      "source": [
        "ou usando a função `dict`"
      ]
    },
    {
      "cell_type": "code",
      "metadata": {
        "id": "mX9CN0waVo1Y",
        "colab_type": "code",
        "colab": {},
        "outputId": "1da2eb01-d60e-45a2-ea1d-43779a61f4cc"
      },
      "source": [
        "dict()"
      ],
      "execution_count": 0,
      "outputs": [
        {
          "output_type": "execute_result",
          "data": {
            "text/plain": [
              "{}"
            ]
          },
          "metadata": {
            "tags": []
          },
          "execution_count": 125
        }
      ]
    },
    {
      "cell_type": "markdown",
      "metadata": {
        "id": "r_BGMU1NVo1b",
        "colab_type": "text"
      },
      "source": [
        "Podemos adicionar elementos a um dicionário já existente usando o método `update`"
      ]
    },
    {
      "cell_type": "code",
      "metadata": {
        "id": "y5w7l-J6Vo1d",
        "colab_type": "code",
        "colab": {},
        "outputId": "0f9a0d99-70c4-4e66-b597-f3a785611b58"
      },
      "source": [
        "d = dict()\n",
        "d.update( key1='value1',key2='value2' )\n",
        "d"
      ],
      "execution_count": 0,
      "outputs": [
        {
          "output_type": "execute_result",
          "data": {
            "text/plain": [
              "{'key1': 'value1', 'key2': 'value2'}"
            ]
          },
          "metadata": {
            "tags": []
          },
          "execution_count": 126
        }
      ]
    },
    {
      "cell_type": "markdown",
      "metadata": {
        "id": "iV6LVdPfVo1i",
        "colab_type": "text"
      },
      "source": [
        "e remover chaves e seus valores associados usando o método `pop`"
      ]
    },
    {
      "cell_type": "code",
      "metadata": {
        "id": "C65IulkaVo1j",
        "colab_type": "code",
        "colab": {},
        "outputId": "fd3f7cb8-fb1b-45d0-d869-eea688557102"
      },
      "source": [
        "d.pop('key1')\n",
        "d"
      ],
      "execution_count": 0,
      "outputs": [
        {
          "output_type": "execute_result",
          "data": {
            "text/plain": [
              "{'key2': 'value2'}"
            ]
          },
          "metadata": {
            "tags": []
          },
          "execution_count": 127
        }
      ]
    },
    {
      "cell_type": "markdown",
      "metadata": {
        "id": "4ilvsKgoVo1m",
        "colab_type": "text"
      },
      "source": [
        "Entretanto, existe uma forma melhor de criar um dicionário pré-populado, caso já saibamos quais os elementos que o compõem.\n",
        "Para isso incluímos os pares chave-valor (`key:value`) entre chaves, separados de outros pares por vírgulas.\n",
        "Para indicar qual chave referencia cada valor, usamos dois pontos (`:`), seguindo a sintaxe abaixo\n",
        "\n",
        "```python\n",
        "{ k1:v1 , k2:v2 , ... , kn:vn }\n",
        "```\n",
        "\n",
        "sendo cada `k1`,`k2`, ..., `kn` chaves; e `v1`, `v2`, ..., `vn` seus valores associados. Vamos criar o dicionário dado como exemplo na figura acima"
      ]
    },
    {
      "cell_type": "code",
      "metadata": {
        "id": "wujlnLBRVo1m",
        "colab_type": "code",
        "colab": {},
        "outputId": "22e45d6b-4fc0-43c2-a268-2dbeb815fa52"
      },
      "source": [
        "{ 42: \"Olá\", 'k1': True, 0: 42, 'k9':42, -3: {'a':1, 'b':2} }"
      ],
      "execution_count": 0,
      "outputs": [
        {
          "output_type": "execute_result",
          "data": {
            "text/plain": [
              "{42: 'Olá', 'k1': True, 0: 42, 'k9': 42, -3: {'a': 1, 'b': 2}}"
            ]
          },
          "metadata": {
            "tags": []
          },
          "execution_count": 128
        }
      ]
    },
    {
      "cell_type": "markdown",
      "metadata": {
        "id": "l9o3lwsgVo1q",
        "colab_type": "text"
      },
      "source": [
        "Para melhorar a legibilidade, podemos quebrar linhas enquanto criamos os dicionários, separando cada par chave-valor seguindo um nível de indentação"
      ]
    },
    {
      "cell_type": "code",
      "metadata": {
        "id": "2uJUlBfcVo1r",
        "colab_type": "code",
        "colab": {},
        "outputId": "99ae8146-854d-4c9c-836c-291c9533908d"
      },
      "source": [
        "{ 42: \"Olá\", \n",
        "  'k1': True, \n",
        "  0: 42, \n",
        "  'k9':42, \n",
        "  -3: { 'a':1, \n",
        "        'b':2 } \n",
        "}"
      ],
      "execution_count": 0,
      "outputs": [
        {
          "output_type": "execute_result",
          "data": {
            "text/plain": [
              "{42: 'Olá', 'k1': True, 0: 42, 'k9': 42, -3: {'a': 1, 'b': 2}}"
            ]
          },
          "metadata": {
            "tags": []
          },
          "execution_count": 129
        }
      ]
    },
    {
      "cell_type": "markdown",
      "metadata": {
        "id": "nTPo2eewVo1v",
        "colab_type": "text"
      },
      "source": [
        "Podemos também converter uma lista de 2-tuplas em um dicionário, usando a função `dict`. Neste caso, o primeiro elemento em cada tupla é interpretado como uma chave; e o segundo como seu valor associado"
      ]
    },
    {
      "cell_type": "code",
      "metadata": {
        "id": "7N6WPWGvVo1v",
        "colab_type": "code",
        "colab": {},
        "outputId": "007f3922-2bf8-4a92-fe4e-988a4e7d1b61"
      },
      "source": [
        "tpls = [\n",
        "    (42, \"Olá\"),\n",
        "    ('k1', True),\n",
        "    (0, 42),\n",
        "    ('k9', 42),\n",
        "    (-3, {'a':1, 'b':2 })\n",
        "]\n",
        "\n",
        "dict(tpls)"
      ],
      "execution_count": 0,
      "outputs": [
        {
          "output_type": "execute_result",
          "data": {
            "text/plain": [
              "{42: 'Olá', 'k1': True, 0: 42, 'k9': 42, -3: {'a': 1, 'b': 2}}"
            ]
          },
          "metadata": {
            "tags": []
          },
          "execution_count": 130
        }
      ]
    },
    {
      "cell_type": "markdown",
      "metadata": {
        "id": "hCK_z-OaVo1y",
        "colab_type": "text"
      },
      "source": [
        "Finalmente, no caso de as chaves de um dicionário serem strings, podemos criar dicionários passando chaves e valores como argumentos nomeados para a função `dict`. Porém, tenha em mente que neste caso números não podem ser usados como chaves"
      ]
    },
    {
      "cell_type": "code",
      "metadata": {
        "id": "suHab4_4Vo1z",
        "colab_type": "code",
        "colab": {},
        "outputId": "f60c3160-e3aa-410b-dc3b-ecf0951f1541"
      },
      "source": [
        "dict( k1=\"Olá\", k9=42 )"
      ],
      "execution_count": 0,
      "outputs": [
        {
          "output_type": "execute_result",
          "data": {
            "text/plain": [
              "{'k1': 'Olá', 'k9': 42}"
            ]
          },
          "metadata": {
            "tags": []
          },
          "execution_count": 131
        }
      ]
    },
    {
      "cell_type": "markdown",
      "metadata": {
        "id": "WKTbEW4QVo12",
        "colab_type": "text"
      },
      "source": [
        "#### Compreensão de Dicionários (Dict comprehension)"
      ]
    },
    {
      "cell_type": "markdown",
      "metadata": {
        "id": "HFbreHeyVo12",
        "colab_type": "text"
      },
      "source": [
        "Assim como vimos para listas, o método de **compreensão de dicionários**, documentado [aqui](https://docs.python.org/3/tutorial/datastructures.html#dictionaries), permite a criação de dicionários usando uma expressão."
      ]
    },
    {
      "cell_type": "markdown",
      "metadata": {
        "id": "KP9sg0kIVo14",
        "colab_type": "text"
      },
      "source": [
        "Este método usa a mesma sintaxe base da compreensão de listas, com duas distinções: (*i*) o uso de chaves no lugar de colchetes; e (*ii*) expressões distintas para o registro da chave e valor em cada iteração, separadas por dois pontos (`:`):\n",
        "```python\n",
        "{ expressão_chave(item):expressão_valor(item) for item in lista if condição(item) }\n",
        "```\n",
        "\n",
        "sendo \n",
        "* `lista`: uma lista pré-existente, ou objeto a ser iterado;\n",
        "* `item`: a variável de iteração;\n",
        "* `expressão_chave`: uma expressão que pode usar o valor em `item`, a ser incluída como chave;\n",
        "* `expressão_valor`: uma expressão que pode usar o valor em `item`, a ser incluída como valor;\n",
        "* `condição` (opcional): o resultado da expressão só é incluído na lista final caso a avaliação da condição resulte em `True`."
      ]
    },
    {
      "cell_type": "markdown",
      "metadata": {
        "id": "AiDvCOFqVo14",
        "colab_type": "text"
      },
      "source": [
        "Podemos criar, por exemplo, um dicionário cujas chaves são números pares de 1 a 20; e os valores são seus quadrados"
      ]
    },
    {
      "cell_type": "code",
      "metadata": {
        "id": "2IwgbL7mVo14",
        "colab_type": "code",
        "colab": {},
        "outputId": "8113340c-7285-4ed1-a01b-0809c53d0b41"
      },
      "source": [
        "{ x:x**2 for x in range(1,21) if x%2==0}"
      ],
      "execution_count": 0,
      "outputs": [
        {
          "output_type": "execute_result",
          "data": {
            "text/plain": [
              "{2: 4,\n",
              " 4: 16,\n",
              " 6: 36,\n",
              " 8: 64,\n",
              " 10: 100,\n",
              " 12: 144,\n",
              " 14: 196,\n",
              " 16: 256,\n",
              " 18: 324,\n",
              " 20: 400}"
            ]
          },
          "metadata": {
            "tags": []
          },
          "execution_count": 132
        }
      ]
    },
    {
      "cell_type": "markdown",
      "metadata": {
        "id": "VAeFM4_1Vo17",
        "colab_type": "text"
      },
      "source": [
        "De forma análoga, poderíamos criar um dicionário cujas chaves são os quadrados dos números pares de 1 a 20; e os valores são os próprios números"
      ]
    },
    {
      "cell_type": "code",
      "metadata": {
        "id": "Gf6TpY5pVo19",
        "colab_type": "code",
        "colab": {},
        "outputId": "97f4c173-f801-4b56-f95c-99919bb1c44c"
      },
      "source": [
        "{ x**2:x for x in range(1,21) if x%2==0}"
      ],
      "execution_count": 0,
      "outputs": [
        {
          "output_type": "execute_result",
          "data": {
            "text/plain": [
              "{4: 2,\n",
              " 16: 4,\n",
              " 36: 6,\n",
              " 64: 8,\n",
              " 100: 10,\n",
              " 144: 12,\n",
              " 196: 14,\n",
              " 256: 16,\n",
              " 324: 18,\n",
              " 400: 20}"
            ]
          },
          "metadata": {
            "tags": []
          },
          "execution_count": 133
        }
      ]
    },
    {
      "cell_type": "markdown",
      "metadata": {
        "id": "uVuIPNDbVo2B",
        "colab_type": "text"
      },
      "source": [
        "### Acessando elementos em um dicionário"
      ]
    },
    {
      "cell_type": "markdown",
      "metadata": {
        "id": "m57a265YVo2D",
        "colab_type": "text"
      },
      "source": [
        "Podemos acessar elementos de um dicionário usando a notação de **indexação**. Ela é bem parecida com a notação que usamos para listas e tuplas, com a única diferença de que agora o índice não é mais posicional. Recuperamos um determinado valor usando como índice sua chave"
      ]
    },
    {
      "cell_type": "code",
      "metadata": {
        "id": "CrmTda8VVo2E",
        "colab_type": "code",
        "colab": {}
      },
      "source": [
        "d = {'k1': \"val1\", 'k2': \"val2\", 'k3': \"val3\"}"
      ],
      "execution_count": 0,
      "outputs": []
    },
    {
      "cell_type": "code",
      "metadata": {
        "id": "gLQzLSNvVo2F",
        "colab_type": "code",
        "colab": {},
        "outputId": "98f9c7c2-a5d4-4b2f-ce18-53ce8b6521fe"
      },
      "source": [
        "d['k1']"
      ],
      "execution_count": 0,
      "outputs": [
        {
          "output_type": "execute_result",
          "data": {
            "text/plain": [
              "'val1'"
            ]
          },
          "metadata": {
            "tags": []
          },
          "execution_count": 135
        }
      ]
    },
    {
      "cell_type": "code",
      "metadata": {
        "id": "HJXZ5G_FVo2H",
        "colab_type": "code",
        "colab": {},
        "outputId": "e5dd9857-9e21-4921-e48e-62cf9b94aabc"
      },
      "source": [
        "d['k2']"
      ],
      "execution_count": 0,
      "outputs": [
        {
          "output_type": "execute_result",
          "data": {
            "text/plain": [
              "'val2'"
            ]
          },
          "metadata": {
            "tags": []
          },
          "execution_count": 136
        }
      ]
    },
    {
      "cell_type": "code",
      "metadata": {
        "id": "uqOHFmQWVo2J",
        "colab_type": "code",
        "colab": {},
        "outputId": "9e629ea1-621d-4426-d3a8-2da0b8bfd5bf"
      },
      "source": [
        "d['k3']"
      ],
      "execution_count": 0,
      "outputs": [
        {
          "output_type": "execute_result",
          "data": {
            "text/plain": [
              "'val3'"
            ]
          },
          "metadata": {
            "tags": []
          },
          "execution_count": 137
        }
      ]
    },
    {
      "cell_type": "markdown",
      "metadata": {
        "id": "zVAxAQP9Vo2L",
        "colab_type": "text"
      },
      "source": [
        "Podemos também atualizar o valor associado a uma determinada chave usando a notação de indexação"
      ]
    },
    {
      "cell_type": "code",
      "metadata": {
        "id": "zqwBJpPxVo2M",
        "colab_type": "code",
        "colab": {}
      },
      "source": [
        "d['k1'] = \"val1.2\""
      ],
      "execution_count": 0,
      "outputs": []
    },
    {
      "cell_type": "code",
      "metadata": {
        "id": "3NjdHb2VVo2P",
        "colab_type": "code",
        "colab": {}
      },
      "source": [
        "d['k2'] = \"val2.2\""
      ],
      "execution_count": 0,
      "outputs": []
    },
    {
      "cell_type": "code",
      "metadata": {
        "id": "8ZEwLV1EVo2R",
        "colab_type": "code",
        "colab": {},
        "outputId": "5cdf27a3-3b41-4480-c6c1-6140f0183a84"
      },
      "source": [
        "d"
      ],
      "execution_count": 0,
      "outputs": [
        {
          "output_type": "execute_result",
          "data": {
            "text/plain": [
              "{'k1': 'val1.2', 'k2': 'val2.2', 'k3': 'val3'}"
            ]
          },
          "metadata": {
            "tags": []
          },
          "execution_count": 140
        }
      ]
    },
    {
      "cell_type": "markdown",
      "metadata": {
        "id": "DDxDvM61Vo2S",
        "colab_type": "text"
      },
      "source": [
        "ou mesmo inserir chaves e valores novos"
      ]
    },
    {
      "cell_type": "code",
      "metadata": {
        "id": "LK9FwMAcVo2S",
        "colab_type": "code",
        "colab": {}
      },
      "source": [
        "d['k4'] = \"val4\""
      ],
      "execution_count": 0,
      "outputs": []
    },
    {
      "cell_type": "code",
      "metadata": {
        "id": "llhNMBddVo2U",
        "colab_type": "code",
        "colab": {}
      },
      "source": [
        "d['k5'] = \"val5\""
      ],
      "execution_count": 0,
      "outputs": []
    },
    {
      "cell_type": "code",
      "metadata": {
        "id": "yi_p8zbPVo2V",
        "colab_type": "code",
        "colab": {},
        "outputId": "cf0c2676-8545-4ea3-f33d-a8af4d54b48e"
      },
      "source": [
        "d"
      ],
      "execution_count": 0,
      "outputs": [
        {
          "output_type": "execute_result",
          "data": {
            "text/plain": [
              "{'k1': 'val1.2', 'k2': 'val2.2', 'k3': 'val3', 'k4': 'val4', 'k5': 'val5'}"
            ]
          },
          "metadata": {
            "tags": []
          },
          "execution_count": 143
        }
      ]
    },
    {
      "cell_type": "markdown",
      "metadata": {
        "id": "e8D0xmaoVo2X",
        "colab_type": "text"
      },
      "source": [
        "Mas receberemos uma mensagem de erro se tentarmos resgatar um valor usando uma chave inexistente"
      ]
    },
    {
      "cell_type": "code",
      "metadata": {
        "id": "_SeE5_RSVo2Y",
        "colab_type": "code",
        "colab": {},
        "outputId": "f06fae24-7489-4a92-82b4-dc20766efcfc"
      },
      "source": [
        "d['k9']"
      ],
      "execution_count": 0,
      "outputs": [
        {
          "output_type": "error",
          "ename": "KeyError",
          "evalue": "'k9'",
          "traceback": [
            "\u001b[0;31m---------------------------------------------------------------------------\u001b[0m",
            "\u001b[0;31mKeyError\u001b[0m                                  Traceback (most recent call last)",
            "\u001b[0;32m<ipython-input-144-17f959e6f626>\u001b[0m in \u001b[0;36m<module>\u001b[0;34m()\u001b[0m\n\u001b[0;32m----> 1\u001b[0;31m \u001b[0md\u001b[0m\u001b[0;34m[\u001b[0m\u001b[0;34m'k9'\u001b[0m\u001b[0;34m]\u001b[0m\u001b[0;34m\u001b[0m\u001b[0m\n\u001b[0m",
            "\u001b[0;31mKeyError\u001b[0m: 'k9'"
          ]
        }
      ]
    },
    {
      "cell_type": "markdown",
      "metadata": {
        "id": "2Zr5-xwuVo2Z",
        "colab_type": "text"
      },
      "source": [
        "Para evitar que este erro quebre nosso programa, podemos usar o método `get`, que retorna um valor pré-definido caso a chave não exista no dicionário. Por *default*, o valor pré-definido é nulo (`None`), mas podemos especificar qualquer outro valor, passando como o segundo argumento para a função"
      ]
    },
    {
      "cell_type": "code",
      "metadata": {
        "id": "MgnCd3w7Vo2a",
        "colab_type": "code",
        "colab": {}
      },
      "source": [
        "d.get('k9')"
      ],
      "execution_count": 0,
      "outputs": []
    },
    {
      "cell_type": "code",
      "metadata": {
        "id": "jICGsIxRVo2b",
        "colab_type": "code",
        "colab": {},
        "outputId": "e576aa8e-7077-4f5d-9586-a380e6f870a6"
      },
      "source": [
        "d.get('k9',\"Não encontrado!\")"
      ],
      "execution_count": 0,
      "outputs": [
        {
          "output_type": "execute_result",
          "data": {
            "text/plain": [
              "'Não encontrado!'"
            ]
          },
          "metadata": {
            "tags": []
          },
          "execution_count": 146
        }
      ]
    },
    {
      "cell_type": "markdown",
      "metadata": {
        "id": "GWQNXToqVo2f",
        "colab_type": "text"
      },
      "source": [
        "### Combinando dicionários"
      ]
    },
    {
      "cell_type": "markdown",
      "metadata": {
        "id": "EYfdc1HhVo2f",
        "colab_type": "text"
      },
      "source": [
        "Diferentemente de listas, dicionários não podem ser **combinados** usando o operador `+`. Em vez disso, podemos **atualizar** um dicionário com o conteúdo de outro, usando o método `update`"
      ]
    },
    {
      "cell_type": "code",
      "metadata": {
        "id": "GTewVtnmVo2g",
        "colab_type": "code",
        "colab": {}
      },
      "source": [
        "d1 = {'k1':\"val1\", 'k2':\"val2\"}\n",
        "d2 = {'k3':\"val3\"}\n",
        "d3 = {'k4':\"val4\"}"
      ],
      "execution_count": 0,
      "outputs": []
    },
    {
      "cell_type": "code",
      "metadata": {
        "id": "_P6UE4R-Vo2i",
        "colab_type": "code",
        "colab": {},
        "outputId": "cb970342-7020-4260-cc82-e8942c468b93"
      },
      "source": [
        "d1.update(d2)\n",
        "d1"
      ],
      "execution_count": 0,
      "outputs": [
        {
          "output_type": "execute_result",
          "data": {
            "text/plain": [
              "{'k1': 'val1', 'k2': 'val2', 'k3': 'val3'}"
            ]
          },
          "metadata": {
            "tags": []
          },
          "execution_count": 148
        }
      ]
    },
    {
      "cell_type": "code",
      "metadata": {
        "id": "b8WqwnlKVo2k",
        "colab_type": "code",
        "colab": {},
        "outputId": "4d2835e7-6e78-4e50-90f2-295a7909122c"
      },
      "source": [
        "d1.update(d3)\n",
        "d1"
      ],
      "execution_count": 0,
      "outputs": [
        {
          "output_type": "execute_result",
          "data": {
            "text/plain": [
              "{'k1': 'val1', 'k2': 'val2', 'k3': 'val3', 'k4': 'val4'}"
            ]
          },
          "metadata": {
            "tags": []
          },
          "execution_count": 149
        }
      ]
    }
  ]
}