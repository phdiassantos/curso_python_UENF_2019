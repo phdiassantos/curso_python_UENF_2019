{
  "nbformat": 4,
  "nbformat_minor": 0,
  "metadata": {
    "colab": {
      "name": "Copy of aula2.ipynb",
      "version": "0.3.2",
      "provenance": [],
      "include_colab_link": true
    },
    "language_info": {
      "codemirror_mode": {
        "name": "ipython",
        "version": 3
      },
      "file_extension": ".py",
      "mimetype": "text/x-python",
      "name": "python",
      "nbconvert_exporter": "python",
      "pygments_lexer": "ipython3",
      "version": "3.6.5"
    },
    "kernelspec": {
      "display_name": "Python 3",
      "language": "python",
      "name": "python3"
    }
  },
  "cells": [
    {
      "cell_type": "markdown",
      "metadata": {
        "id": "view-in-github",
        "colab_type": "text"
      },
      "source": [
        "<a href=\"https://colab.research.google.com/github/phdiassantos/curso_python_UENF_2019/blob/master/Dia2.ipynb\" target=\"_parent\"><img src=\"https://colab.research.google.com/assets/colab-badge.svg\" alt=\"Open In Colab\"/></a>"
      ]
    },
    {
      "cell_type": "markdown",
      "metadata": {
        "id": "CC1DqSQROvrs",
        "colab_type": "text"
      },
      "source": [
        "# Aula 2. Estruturas de controle, Funções e Classes"
      ]
    },
    {
      "cell_type": "markdown",
      "metadata": {
        "id": "rDzzHQtZOvr2",
        "colab_type": "text"
      },
      "source": [
        "##### Conteúdos\n",
        "\n",
        "* [1. Estruturas de Controle](#1.-Estruturas-de-Controle)\n",
        "    * [Estruturas Condicionais](#Estruturas-Condicionais)\n",
        "    * [Estruturas de Repetição](#Estruturas-de-Repetição)\n",
        "* [2. Funções](#2.-Funções)\n",
        "    * [Definindo funções](#Definindo-funções)\n",
        "    * [Funções Anônimas (*lambda*)](#Funções-Anônimas,-ou-Lambda)\n",
        "* [3. Classes](#3.-Classes)"
      ]
    },
    {
      "cell_type": "markdown",
      "metadata": {
        "id": "QOp_x3w-Ovr4",
        "colab_type": "text"
      },
      "source": [
        "# 1. Estruturas de Controle"
      ]
    },
    {
      "cell_type": "markdown",
      "metadata": {
        "id": "YqmocmPoOvr7",
        "colab_type": "text"
      },
      "source": [
        "Estruturas de controle alteram a sequência em que instruções são executadas em um programa.\n",
        "Aqui estudaremos as **estruturas condicionais** e **estruturas de repetição**."
      ]
    },
    {
      "cell_type": "markdown",
      "metadata": {
        "id": "WJYnaOgGOvsB",
        "colab_type": "text"
      },
      "source": [
        "## Estruturas Condicionais"
      ]
    },
    {
      "cell_type": "markdown",
      "metadata": {
        "id": "29JJTnmWOvsM",
        "colab_type": "text"
      },
      "source": [
        "Estruturas condicionais permitem alterar o fluxo de execução de um programa através da verificação de **condições**, que podem ser codificadas em nosso programa por meio de **expressões lógicas** (aquelas cuja avaliação resulta em valores do tipo **booleano**: `True` ou `False`).\n",
        "Podemos construir estruturas condicionais com diferentes níveis de complexidade, dependendo do conjunto de condições.\n",
        "Vejamos como construí-las"
      ]
    },
    {
      "cell_type": "markdown",
      "metadata": {
        "id": "CXo03cyZOvsS",
        "colab_type": "text"
      },
      "source": [
        "#### A construção *if*"
      ]
    },
    {
      "cell_type": "markdown",
      "metadata": {
        "id": "lSjax3QNOvsa",
        "colab_type": "text"
      },
      "source": [
        "A construção `if` é a maneira mais simples de escrevermos um bloco de código $A$ que somente deve ser executado caso uma determinada condição **seja satisfeita** (ou seja, avaliada como `True`). Caso contrário, o código $A$ é simplesmente ignorado"
      ]
    },
    {
      "cell_type": "markdown",
      "metadata": {
        "id": "x_D8JtO4Ovsc",
        "colab_type": "text"
      },
      "source": [
        "<img src=\"https://github.com/phdiassantos/python/blob/master/imagens/conditionals_if.png?raw=1\" width="450"/>"
      ]
    },
    {
      "cell_type": "code",
      "metadata": {
        "id": "0sasoA19Ovsf",
        "colab_type": "code",
        "colab": {}
      },
      "source": [
        "print(\"Antes da condicional: sempre executa\")\n",
        "\n",
        "cond = True\n",
        "\n",
        "if cond:\n",
        "    print(\"Código A: só executa caso a condição seja verdadeira\")\n",
        "\n",
        "print(\"Após a condicional: sempre executa\")"
      ],
      "execution_count": 0,
      "outputs": []
    },
    {
      "cell_type": "markdown",
      "metadata": {
        "id": "Z6xNBB7sOvsw",
        "colab_type": "text"
      },
      "source": [
        "#### A construção *if else*"
      ]
    },
    {
      "cell_type": "markdown",
      "metadata": {
        "id": "a6IvcWK8Ovs0",
        "colab_type": "text"
      },
      "source": [
        "Um `if` pode ser associado a um `else`, contendo um bloco de código que é executado caso a condição do `if` **não seja satisfeita** (ou seja, avaliada como `False`). Assim como no exemplo anterior, o código $A$ é executado caso a condição seja verdadeira. A diferença é que, no caso de a condição ser falsa, um código alternativo $B$ será executado"
      ]
    },
    {
      "cell_type": "markdown",
      "metadata": {
        "id": "vaNy235GOvs3",
        "colab_type": "text"
      },
      "source": [
        "<img src=\"https://github.com/pedrosiracusa/curso_python_eamc/blob/master/notebooks/img/conditionals_ifelse.png?raw=1\" width=450/>"
      ]
    },
    {
      "cell_type": "code",
      "metadata": {
        "id": "6wLkdC9FOvs6",
        "colab_type": "code",
        "colab": {}
      },
      "source": [
        "print(\"Antes da condicional: sempre executa\")\n",
        "\n",
        "cond = True\n",
        "\n",
        "if cond:\n",
        "    print(\"Código A: só executa caso a condição seja verdadeira\")\n",
        "else:\n",
        "    print(\"Código B: só executa caso a condição seja falsa\")\n",
        "\n",
        "print(\"Após a condicional: sempre executa\")"
      ],
      "execution_count": 0,
      "outputs": []
    },
    {
      "cell_type": "markdown",
      "metadata": {
        "id": "hzbdwN4LOvtE",
        "colab_type": "text"
      },
      "source": [
        "As duas construções tratadas acima se baseiam na verificação de **apenas uma condição**, que dependendo de como for avaliada (`True` ou `False`), desencadeia um dentre dois possíveis comportamentos. \n",
        "Mas e se desejarmos construir uma estrutura condicional que permita **mais do que apenas dois \"caminhos\" diferentes**? \n",
        "Neste caso precisamos verificar mais do que uma única condição. Para isso precisamos usar estruturas condicionais aninhadas"
      ]
    },
    {
      "cell_type": "markdown",
      "metadata": {
        "id": "GWPCC5gIOvtH",
        "colab_type": "text"
      },
      "source": [
        "#### Condicionais aninhadas"
      ]
    },
    {
      "cell_type": "markdown",
      "metadata": {
        "id": "n-EI-jqrOvtL",
        "colab_type": "text"
      },
      "source": [
        "A primeira forma de incluir mais mais do que uma condição a ser testada na estrutura condicional é por **aninhamento**. Como resultado, teremos uma estrutura hierárquica, em que a execução de uma segunda condição depende do resultado de uma primeira condição. \n",
        "Não há limites para o número de níveis hierárquicos em uma estrutura condicional, apesar de que muitos níveis hierárquicos podem tornar o código mais difícil de entender.\n",
        "\n",
        "**<span style=\"color:red\">Cuidado!</span>** Em *Python* é fundamental respeitar o nível de indentação dos blocos de código em cada nível hierárquico!"
      ]
    },
    {
      "cell_type": "markdown",
      "metadata": {
        "id": "nhxC8cQXOvtQ",
        "colab_type": "text"
      },
      "source": [
        "<img src=\"https://github.com/pedrosiracusa/curso_python_eamc/blob/master/notebooks/img/conditionals_nested.png?raw=1\" width=600/>"
      ]
    },
    {
      "cell_type": "code",
      "metadata": {
        "id": "c3cLUFwUOvtS",
        "colab_type": "code",
        "colab": {}
      },
      "source": [
        "print(\"Antes da condicional: sempre executa\")\n",
        "\n",
        "cond1 = True\n",
        "cond2 = True\n",
        "\n",
        "if cond1:\n",
        "    print(\"Código A: só executa caso a condição 1 seja verdadeira (não importa a condição 2)\")\n",
        "else:\n",
        "    if cond2:\n",
        "        print(\"Código B: só executa caso a condição 2 seja verdadeira (condição 1 foi falsa)\")\n",
        "    else:\n",
        "        print(\"Código C: só executa caso a condição 2 seja falsa (condição 1 foi falsa)\")\n",
        "\n",
        "print(\"Após a condicional: sempre executa\")"
      ],
      "execution_count": 0,
      "outputs": []
    },
    {
      "cell_type": "markdown",
      "metadata": {
        "id": "WMdVHSEZOvtf",
        "colab_type": "text"
      },
      "source": [
        "#### A construção *if elif else*"
      ]
    },
    {
      "cell_type": "markdown",
      "metadata": {
        "id": "WJCs1bVEOvtj",
        "colab_type": "text"
      },
      "source": [
        "Uma sequência de vários `if` e `else` aninhados pode inserir muitos níveis de indentação no código, tornando-o confuso. Para evitar este problema, usamos a construção podemos inserir novas condições a serem verificadas usando a palavra `elif`. Pense no `elif` como uma fusão entre um  `else` e um `if`. O `else` no final captura qualquer caso em que nenhuma das condições anteriores foram satisfeitas."
      ]
    },
    {
      "cell_type": "markdown",
      "metadata": {
        "id": "AiQc43puOvtl",
        "colab_type": "text"
      },
      "source": [
        "O código das condicionais aninhadas na célula acima pode ser reescrito usando um `elif`. Note que agora toda a estrutura condicional está no mesmo nível de indentação!"
      ]
    },
    {
      "cell_type": "code",
      "metadata": {
        "id": "I5PrkEOiOvto",
        "colab_type": "code",
        "colab": {}
      },
      "source": [
        "print(\"Antes da condicional: sempre executa\")\n",
        "\n",
        "cond1 = True\n",
        "cond2 = True\n",
        "\n",
        "if cond1:\n",
        "    print(\"Código A: só executa caso a condição 1 seja verdadeira (não importa a condição 2)\")\n",
        "elif cond2:\n",
        "    print(\"Código B: só executa caso a condição 2 seja verdadeira (condição 1 foi falsa)\")\n",
        "else:\n",
        "    print(\"Código C: só executa caso a condição 2 seja falsa (condição 1 foi falsa)\")\n",
        "\n",
        "print(\"Após a condicional: sempre executa\")"
      ],
      "execution_count": 0,
      "outputs": []
    },
    {
      "cell_type": "markdown",
      "metadata": {
        "id": "Hyy_F7sPOvt7",
        "colab_type": "text"
      },
      "source": [
        "## Estruturas de Repetição"
      ]
    },
    {
      "cell_type": "markdown",
      "metadata": {
        "id": "lPWTKk9YOvt9",
        "colab_type": "text"
      },
      "source": [
        "Estruturas de repetição nos permitem realizar tarefas repetitivas, potencializando o nível de **automação** em nossos programas.\n",
        "**Loops** (em português \"laços de repetição\") são estruturas que garantem que determinada parte do código seja repetida várias vezes. \n",
        "Existem dois tipos fundamentais de loops: (i) ***for* loops** e (ii) ***while* loops**\n"
      ]
    },
    {
      "cell_type": "markdown",
      "metadata": {
        "id": "oBEIqsK5Ovt_",
        "colab_type": "text"
      },
      "source": [
        "### Loops do tipo \"*for*\""
      ]
    },
    {
      "cell_type": "markdown",
      "metadata": {
        "id": "30K6Lkk8OvuB",
        "colab_type": "text"
      },
      "source": [
        "Loops do tipo \"**for**\" permitem percorrer um objeto iterável (como uma lista, uma tupla ou uma *range*) sequencialmente. Tipicamente, usamos loops do tipo \"*for*\" quando já sabemos, *a priori*, o número de iterações. Sua estrutura é composta por:\n",
        "\n",
        "* uma **variável de iteração** (normalmente chamada `i` ou `j`, mas poderia receber qualquer outro nome);\n",
        "* a **lista** ou objeto iterável. "
      ]
    },
    {
      "cell_type": "markdown",
      "metadata": {
        "id": "wOqtW1-KOvuD",
        "colab_type": "text"
      },
      "source": [
        "Percorrendo uma lista"
      ]
    },
    {
      "cell_type": "code",
      "metadata": {
        "id": "TJTRWpAqOvuE",
        "colab_type": "code",
        "colab": {}
      },
      "source": [
        "lista = ['a','b','c','d','e','f']\n",
        "\n",
        "for i in lista:\n",
        "    print(f\"Nova iteração: elemento {i}\")"
      ],
      "execution_count": 0,
      "outputs": []
    },
    {
      "cell_type": "markdown",
      "metadata": {
        "id": "sCH_TfXKOvuS",
        "colab_type": "text"
      },
      "source": [
        "Percorrendo uma *range*"
      ]
    },
    {
      "cell_type": "code",
      "metadata": {
        "id": "OR_29YQ4OvuU",
        "colab_type": "code",
        "colab": {}
      },
      "source": [
        "for i in range(1,11):\n",
        "    print(f\"Nova iteração: elemento {i}\")"
      ],
      "execution_count": 0,
      "outputs": []
    },
    {
      "cell_type": "markdown",
      "metadata": {
        "id": "p7SKV7GJOvue",
        "colab_type": "text"
      },
      "source": [
        "Percorrendo elementos em um dicionário.\n"
      ]
    },
    {
      "cell_type": "code",
      "metadata": {
        "id": "OnwfDiRBOvuh",
        "colab_type": "code",
        "colab": {}
      },
      "source": [
        "dicio = { 'k1':'val1', 'k2':'val2', 'k3':'val3','k4':'val4', 'k5':'val5' }\n",
        "\n",
        "for k,v in dicio.items():\n",
        "    print(f\"Nova iteração: chave {k} --> valor {v}\")"
      ],
      "execution_count": 0,
      "outputs": []
    },
    {
      "cell_type": "markdown",
      "metadata": {
        "id": "sPq44YUtOvus",
        "colab_type": "text"
      },
      "source": [
        "**Obs 1.** O método `items` fornece uma lista de 2-tuplas, cada uma contendo uma chave e seu valor, respectivamente. "
      ]
    },
    {
      "cell_type": "markdown",
      "metadata": {
        "id": "rs1YuRkMOvuu",
        "colab_type": "text"
      },
      "source": [
        "**Dica.** *Sequence unpacking*\n",
        "\n",
        "Quando escrevemos `k,v` no lugar da variável de iteração, estamos associando cada chave a uma variável de nome `k` e cada valor a uma variável de nome `v`. Esta forma de associar as variáveis se chama [*sequence unpacking*](https://docs.python.org/3/tutorial/datastructures.html#tuples-and-sequences).\n",
        "Ela funciona tanto para objetos iteráveis, em geral (listas, tuplas, ranges). No entanto, é necessário que o número de variáveis seja igual ao número de elementos dentro do objeto"
      ]
    },
    {
      "cell_type": "code",
      "metadata": {
        "id": "hovaa3C2Ovux",
        "colab_type": "code",
        "colab": {}
      },
      "source": [
        "var1, var2 = ( 'a', 'b' )\n",
        "\n",
        "print(f\"var1 recebe {var1}\")\n",
        "print(f\"var2 recebe {var2}\")"
      ],
      "execution_count": 0,
      "outputs": []
    },
    {
      "cell_type": "markdown",
      "metadata": {
        "id": "v8fHY3kwOvvC",
        "colab_type": "text"
      },
      "source": [
        "**Dica.** *Enumerating*\n",
        "\n",
        "Podemos também usar a função `enumerate` para obter o índice de cada elemento na lista, além de seu valor. A cada iteração, o índice do elemento e o valor são retornados como uma 2-tupla"
      ]
    },
    {
      "cell_type": "code",
      "metadata": {
        "id": "wrHHuCMfOvvF",
        "colab_type": "code",
        "colab": {}
      },
      "source": [
        "lista = ['a','b','c','d','e','f']\n",
        "\n",
        "for i,el in enumerate(lista):\n",
        "    print(f\"Nova iteração (índice {i}): elemento {el}\")"
      ],
      "execution_count": 0,
      "outputs": []
    },
    {
      "cell_type": "markdown",
      "metadata": {
        "id": "Vv3XkVtCOvvT",
        "colab_type": "text"
      },
      "source": [
        "### Loops do tipo \"*while*\""
      ]
    },
    {
      "cell_type": "markdown",
      "metadata": {
        "id": "eIAYv7ySOvvU",
        "colab_type": "text"
      },
      "source": [
        "Loops do tipo *while* permitem continuar um loop enquanto determinada condição é satisfeita. São mais adequados nos casos em que não conseguimos determinar, *a priori*, o número total de iterações a serem realizadas."
      ]
    },
    {
      "cell_type": "markdown",
      "metadata": {
        "id": "H0HYmTFMOvvW",
        "colab_type": "text"
      },
      "source": [
        "Em loops do tipo \"*while*\", normalmente usamos uma variável de controle, como uma **variável contadora** (normalmente chamada `cntr`). Esta variável de controle deve ser atualizada a cada iteração!"
      ]
    },
    {
      "cell_type": "code",
      "metadata": {
        "id": "jQmK-NRSOvvY",
        "colab_type": "code",
        "colab": {}
      },
      "source": [
        "cntr = 0\n",
        "\n",
        "while cntr < 10:\n",
        "    print(f\"Nova iteração. Variável contadora tem valor {cntr}\")\n",
        "    cntr = cntr + 1"
      ],
      "execution_count": 0,
      "outputs": []
    },
    {
      "cell_type": "markdown",
      "metadata": {
        "id": "o4LjLX_nOvvn",
        "colab_type": "text"
      },
      "source": [
        "Podemos também percorrer uma lista com um loop \"*while*\", embora neste caso o \"*for*\" seja mais adequado.\n",
        "Neste caso, a condição é que entramos em um novo loop sempre que o índice (`i`) for menor que o comprimento da lista (`len(lista)`).\n",
        "O índice `i` começa em 0 e é incrementado a cada loop"
      ]
    },
    {
      "cell_type": "code",
      "metadata": {
        "id": "TEKk6mnWOvvs",
        "colab_type": "code",
        "colab": {}
      },
      "source": [
        "lista = ['a','b','c','d','e','f']\n",
        "i = 0\n",
        "\n",
        "while i < len(lista):\n",
        "    print(f\"Nova iteração: Elemento {lista[i]} (índice {i})\")\n",
        "    i = i + 1"
      ],
      "execution_count": 0,
      "outputs": []
    },
    {
      "cell_type": "markdown",
      "metadata": {
        "id": "Om16JZtiOvv1",
        "colab_type": "text"
      },
      "source": [
        "**<span style=\"color:red\">Cuidado!</span>** Loops do tipo \"*while*\" podem originar **loops infinitos**, caso a condição do loop seja atualizada. Isso normalmente ocorre quando o programador se esquece de atualizar ou mesmo incluir a variável de controle. "
      ]
    },
    {
      "cell_type": "code",
      "metadata": {
        "id": "B1qFfDwmOvv4",
        "colab_type": "code",
        "colab": {}
      },
      "source": [
        "# Atenção: esta célula gera um loop infinito. Para finalizá-lo, clique no botão \"pause\", na barra de ferramentas\n",
        "cond=True\n",
        "\n",
        "while cond:\n",
        "    print(\"Nova iteração\")"
      ],
      "execution_count": 0,
      "outputs": []
    },
    {
      "cell_type": "markdown",
      "metadata": {
        "id": "LsltukkPOvwA",
        "colab_type": "text"
      },
      "source": [
        "---"
      ]
    },
    {
      "cell_type": "markdown",
      "metadata": {
        "id": "0oMabOlOOvwE",
        "colab_type": "text"
      },
      "source": [
        "# 2. Funções"
      ]
    },
    {
      "cell_type": "markdown",
      "metadata": {
        "id": "KM2QC1DMOvwF",
        "colab_type": "text"
      },
      "source": [
        "Funções são construções que **encapsulam** um determinado comportamento que se espera executar múltiplas vezes durante a execução de um programa.\n",
        "São rotinas, que podem ter sido definidas pelo próprio programador ou por outros programadores, cujos detalhes da implementação são abstraídos para o usuário.\n",
        "O usuário portanto só precisa saber o que precisa saber como operar a função: que tipos de coisas deve fornecer como **entrada** (*input*) e o que deve esperar receber como **saída** (*output*)"
      ]
    },
    {
      "cell_type": "markdown",
      "metadata": {
        "id": "z4LhnsalOvwH",
        "colab_type": "text"
      },
      "source": [
        "<img src=\"https://github.com/pedrosiracusa/curso_python_eamc/blob/master/notebooks/img/functions.png?raw=1\">"
      ]
    },
    {
      "cell_type": "markdown",
      "metadata": {
        "id": "wn1V4AAdOvwI",
        "colab_type": "text"
      },
      "source": [
        "Funções facilitam sua vida por dois motivos principais. \n",
        "\n",
        "1. Permitem ao programador **abstrair** computações, sem precisar se preocupar a todo momento sobre os mínimos detalhes de como elas são de fato realizadas. Imagine se você tivesse que se preocupar com os detalhes sobre como um texto é imprimido na tela de seu computador toda vez que você precisasse desta funcionalidade... Felizmente a função `print` permite que esta rotina seja abstraída para você, o que torna seu trabalho muito mais fluido! \n",
        "\n",
        "2. Permitem **compartilhar** e **reutilizar** código. Se você construir uma função que possa ajudar outras pessoas também, por que não compartilhar? Isso acontece bastante na comunidade de programadores, e os ajuda a não ficar \"reinventando a roda\" quando precisam de alguma funcionalidade que já foi implementada por alguém. "
      ]
    },
    {
      "cell_type": "markdown",
      "metadata": {
        "id": "6s0aYAn0OvwR",
        "colab_type": "text"
      },
      "source": [
        "Para começar a entender como trabalhar com funções em *Python*, precisamos conhecer seus três componentes principais: *(i)* **nome**, *(ii)* **parâmetros** e *(iii)* **corpo**.\n",
        "\n",
        "Dar um **nome** às funções é uma forma simples de mantermos uma referência a elas. Embora possamos nomear funções conforme nossa vontade, é recomendável escolhermos nomes que nos digam algo sobre seu funcionamento. É fácil lembrar que a função `print`, por exemplo, serve para imprimir algo na tela.\n",
        "\n",
        "Os **parâmetros** fornecem um meio para \"afinarmos\" o comportamento de uma função para nossas necessidades. Os dados de entrada (*inputs*) são também passados para as funções através de parâmetros. No jargão da programação, nos referimos aos valores mapeados para cada um dos parâmetros como **argumentos**. Pense em um parâmetro como um *placeholder* para um valor, enquanto o argumento é o valor em si, passado para dentro da função através de um parâmetro.\n",
        "\n",
        "Por fim, no **corpo** da função especificamos todas as etapas que devem ser realizadas por ela. Estas etapas incluem o processamento dos dados de entrada (*inputs*) e a construção do resultado que ela produzirá como saída (*output*). Lembre-se: no fim das contas, a ideia é que as computações descritas no corpo da função sejam abstraídas para o usuário da função."
      ]
    },
    {
      "cell_type": "markdown",
      "metadata": {
        "id": "MFY6MJSyOvwR",
        "colab_type": "text"
      },
      "source": [
        "## Definindo funções"
      ]
    },
    {
      "cell_type": "markdown",
      "metadata": {
        "id": "HVpE33IwOvwT",
        "colab_type": "text"
      },
      "source": [
        "Para definir (criar) uma nova função precisamos obedecer à seguinte sintaxe:\n",
        "* a palavra `def` indica que uma nova função está sendo definida;\n",
        "* após `def`, deve ser escrito o **nome** da função;\n",
        "* após o nome da função, entre parênteses, os **parâmetros** são separados por vírgulas;\n",
        "* Os dois pontos `:` após os parênteses indica que o **corpo** da função vem a seguir, no bloco de código abaixo. Ele contém todas as instruções (ou algoritmo) que determinam como a função se comporta;\n",
        "* No fim do corpo da função, o valor de saída (*output*) é indicado após a palavra `return`.\n",
        "\n",
        "**<span style=\"color:red\">Cuidado!</span>** \n",
        "O bloco de código deve ser escrito com uma **indentação**, que é o distanciamento em relação à margem esquerda da célula"
      ]
    },
    {
      "cell_type": "markdown",
      "metadata": {
        "id": "yli1u819OvwW",
        "colab_type": "text"
      },
      "source": [
        "```python\n",
        "def nome_funcao(par1, par2):\n",
        "    instrucao_1\n",
        "    instrucao_2\n",
        "    instrucao_3\n",
        "    return resultado\n",
        "```"
      ]
    },
    {
      "cell_type": "markdown",
      "metadata": {
        "id": "o74Jn9mgOvwY",
        "colab_type": "text"
      },
      "source": [
        "Para demonstrar como definir funções em *Python*, vamos começar com alguns exemplos bastante simples.\n",
        "As funções a seguir apenas imprimem mensagens no console."
      ]
    },
    {
      "cell_type": "markdown",
      "metadata": {
        "id": "xF4aIoLWOvwa",
        "colab_type": "text"
      },
      "source": [
        "Podemos declarar funções sem parâmetros"
      ]
    },
    {
      "cell_type": "code",
      "metadata": {
        "id": "fUcuDMlVOvwb",
        "colab_type": "code",
        "colab": {}
      },
      "source": [
        "def foo():\n",
        "    print(\"Função `foo` foi executada\")\n",
        "    print(\"Como não há parâmetros, o comportamento da função sempre será o mesmo\")"
      ],
      "execution_count": 0,
      "outputs": []
    },
    {
      "cell_type": "code",
      "metadata": {
        "id": "k-BnHDRJOvwi",
        "colab_type": "code",
        "colab": {}
      },
      "source": [
        "foo()"
      ],
      "execution_count": 0,
      "outputs": []
    },
    {
      "cell_type": "markdown",
      "metadata": {
        "id": "3BXqOC6TOvwr",
        "colab_type": "text"
      },
      "source": [
        "com apenas um parâmetro"
      ]
    },
    {
      "cell_type": "code",
      "metadata": {
        "id": "pL6mjj4ROvws",
        "colab_type": "code",
        "colab": {}
      },
      "source": [
        "def bar(par1):\n",
        "    print(\"Função `bar` foi executada\")\n",
        "    print(f\"Parâmetro par1 recebe {par1} como valor (argumento)\")"
      ],
      "execution_count": 0,
      "outputs": []
    },
    {
      "cell_type": "code",
      "metadata": {
        "id": "OJL6FAH2Ovwz",
        "colab_type": "code",
        "colab": {}
      },
      "source": [
        "bar('Santos')"
      ],
      "execution_count": 0,
      "outputs": []
    },
    {
      "cell_type": "markdown",
      "metadata": {
        "id": "gwgbLMldOvw6",
        "colab_type": "text"
      },
      "source": [
        "ou com múltiplos parâmetros"
      ]
    },
    {
      "cell_type": "code",
      "metadata": {
        "id": "UWtz9kLgOvw8",
        "colab_type": "code",
        "colab": {}
      },
      "source": [
        "def baz(par1, par2):\n",
        "    print(\"Função `baz` foi executada\")\n",
        "    print(f\"Parâmetro par1 recebe argumento {par1}\")\n",
        "    print(f\"Parâmetro par2 recebe argumento {par2}\")"
      ],
      "execution_count": 0,
      "outputs": []
    },
    {
      "cell_type": "code",
      "metadata": {
        "id": "8Dld6u74Ovw_",
        "colab_type": "code",
        "colab": {}
      },
      "source": [
        "baz('Santos','Dumont')"
      ],
      "execution_count": 0,
      "outputs": []
    },
    {
      "cell_type": "markdown",
      "metadata": {
        "id": "4xml7WnmOvxF",
        "colab_type": "text"
      },
      "source": [
        "Podemos especificar um valor *default* para os parâmetros, que será usado caso o usuário não forneça outro"
      ]
    },
    {
      "cell_type": "code",
      "metadata": {
        "id": "b0shRJDWOvxG",
        "colab_type": "code",
        "colab": {}
      },
      "source": [
        "def baz2(par1, par2=\"Barney\"):\n",
        "    print(\"Função `baz2` foi executada\")\n",
        "    print(f\"Parâmetro par1 recebe argumento {par1}\")\n",
        "    print(f\"Parâmetro par2 recebe argumento {par2}\")"
      ],
      "execution_count": 0,
      "outputs": []
    },
    {
      "cell_type": "code",
      "metadata": {
        "id": "e_dRHW7oOvxL",
        "colab_type": "code",
        "colab": {}
      },
      "source": [
        "baz2('Santos')"
      ],
      "execution_count": 0,
      "outputs": []
    },
    {
      "cell_type": "code",
      "metadata": {
        "id": "sFA1YhamOvxW",
        "colab_type": "code",
        "colab": {}
      },
      "source": [
        "baz2('Santos', 'Dumont')"
      ],
      "execution_count": 0,
      "outputs": []
    },
    {
      "cell_type": "markdown",
      "metadata": {
        "id": "haSnAIM-Ovxf",
        "colab_type": "text"
      },
      "source": [
        "Podemos também passar os argumentos fora de ordem, desde que especifiquemos a quais parâmetros eles devem ser mapeados"
      ]
    },
    {
      "cell_type": "code",
      "metadata": {
        "id": "rzpVT-IVOvxh",
        "colab_type": "code",
        "colab": {}
      },
      "source": [
        "baz2(par2=\"Dumont\", par1=\"Santos\")"
      ],
      "execution_count": 0,
      "outputs": []
    },
    {
      "cell_type": "markdown",
      "metadata": {
        "id": "T5pCf7aROvxu",
        "colab_type": "text"
      },
      "source": [
        "## Retornos de funções"
      ]
    },
    {
      "cell_type": "markdown",
      "metadata": {
        "id": "EO8qCqExOvxv",
        "colab_type": "text"
      },
      "source": [
        "As funções que vimos acima apenas imprimem mensagens no console.\n",
        "Mas normalmente esperamos que funções retornem os resultados de suas computações como valores, que podem ser associados a variáveis e utilizados em computações subsequentes.\n",
        "Vamos ver como retornar resultados de funções usando a keyword `return`"
      ]
    },
    {
      "cell_type": "markdown",
      "metadata": {
        "id": "vG15cPBzOvxx",
        "colab_type": "text"
      },
      "source": [
        "Vamos construir uma função `adicao` que soma dois números e retorna o resultado"
      ]
    },
    {
      "cell_type": "code",
      "metadata": {
        "id": "5jTasrm9Ovx1",
        "colab_type": "code",
        "colab": {}
      },
      "source": [
        "def adicao(n1,n2):\n",
        "    res = n1 + n2\n",
        "    return res"
      ],
      "execution_count": 0,
      "outputs": []
    },
    {
      "cell_type": "code",
      "metadata": {
        "id": "LuB4aqTuOvx6",
        "colab_type": "code",
        "colab": {}
      },
      "source": [
        "adicao(3,7)"
      ],
      "execution_count": 0,
      "outputs": []
    },
    {
      "cell_type": "markdown",
      "metadata": {
        "id": "UCnXh_ICOvx_",
        "colab_type": "text"
      },
      "source": [
        "Da mesma forma, podemos construir funções que fazem subtração, multiplicação e divisão"
      ]
    },
    {
      "cell_type": "code",
      "metadata": {
        "id": "SxC0hMRQOvyB",
        "colab_type": "code",
        "colab": {}
      },
      "source": [
        "def subtracao(n1,n2):\n",
        "    res = n1 - n2\n",
        "    return res\n",
        "\n",
        "def multiplicacao(n1,n2):\n",
        "    return n1 * n2\n",
        "\n",
        "def divisao(n1,n2):\n",
        "    return n1/n2"
      ],
      "execution_count": 0,
      "outputs": []
    },
    {
      "cell_type": "markdown",
      "metadata": {
        "id": "KDs-EyK7OvyF",
        "colab_type": "text"
      },
      "source": [
        "Cada uma dessas funções realiza uma determinada operação matemática com dois números `n1` e `n2` e retorna o resultado"
      ]
    },
    {
      "cell_type": "code",
      "metadata": {
        "id": "34IkhULoOvyH",
        "colab_type": "code",
        "colab": {}
      },
      "source": [
        "a,b,c,d = 3,5,7,10"
      ],
      "execution_count": 0,
      "outputs": []
    },
    {
      "cell_type": "markdown",
      "metadata": {
        "id": "qvO3HugMOvyK",
        "colab_type": "text"
      },
      "source": [
        "Vamos agora fazer as seguintes operações, usando apenas as funções que declaramos acima.\n",
        "Primeiramente usaremos variáveis para armazenar os valores resultantes de cada operação:\n",
        "1. `u` recebe o resultado da adição de `a` e `b`\n",
        "2. `v` recebe o resultado da subtração entre `d` e `c`\n",
        "3. `w` recebe o resultado da multiplicação de `u` e `v`\n",
        "4. `x` recebe o resultado da divisão de `w` por 2"
      ]
    },
    {
      "cell_type": "code",
      "metadata": {
        "id": "TpuShZ-wOvyL",
        "colab_type": "code",
        "colab": {}
      },
      "source": [
        "u = adicao(a,b)\n",
        "v = subtracao(d,c)\n",
        "w = multiplicacao(u,v)\n",
        "x = divisao(w,2)"
      ],
      "execution_count": 0,
      "outputs": []
    },
    {
      "cell_type": "markdown",
      "metadata": {
        "id": "nVxrUxqCOvyN",
        "colab_type": "text"
      },
      "source": [
        "Vamos verificar o valor final (em `x`)"
      ]
    },
    {
      "cell_type": "code",
      "metadata": {
        "id": "gwo4e0PROvyP",
        "colab_type": "code",
        "colab": {}
      },
      "source": [
        "x"
      ],
      "execution_count": 0,
      "outputs": []
    },
    {
      "cell_type": "markdown",
      "metadata": {
        "id": "EcZrrgsbOvyU",
        "colab_type": "text"
      },
      "source": [
        "Poderíamos também realizar todas estas etapas em apenas uma expressão, evitando usar variáveis intermediárias. \n",
        "Por definição, funções mais \"internas\", que são passadas como argumentos para outras, executam primeiro.\n",
        "Seus valores retornados são passados como argumentos para funções mais \"externas\". "
      ]
    },
    {
      "cell_type": "code",
      "metadata": {
        "id": "xPB58O0KOvyV",
        "colab_type": "code",
        "colab": {}
      },
      "source": [
        "divisao( multiplicacao( adicao(a,b), subtracao(d,c) ), 2)"
      ],
      "execution_count": 0,
      "outputs": []
    },
    {
      "cell_type": "markdown",
      "metadata": {
        "id": "1HbrC85dOvyd",
        "colab_type": "text"
      },
      "source": [
        "No exemplo acima, as funções `adicao` e `subtracao` são as primeiras a serem avaliadas. Seus resultados são usados pela função `multiplicacao` que, por sua vez, tem seu resultado passado para a função `divisão`, que é a última a ser executada"
      ]
    },
    {
      "cell_type": "markdown",
      "metadata": {
        "id": "kZ-KK0oXOvyd",
        "colab_type": "text"
      },
      "source": [
        "## Funções Anônimas, ou *Lambda*"
      ]
    },
    {
      "cell_type": "markdown",
      "metadata": {
        "id": "V_n-n1pWOvye",
        "colab_type": "text"
      },
      "source": [
        "Funções *lambda* são consideradas funções anônimas, por não serem necessariamente associadas a um nome. São constituídas por uma única expressão.\n",
        "Sua construção é simples: \n",
        "\n",
        "```python\n",
        "lambda x p1,p2,p3: expressão\n",
        "``` \n",
        "\n",
        "* A keyword `lambda` indica a criação de uma função *lambda*;\n",
        "* O conjunto de **parâmetros** (`p1`, `p2`, `p3`), cada qual separado do próximo por uma vírgula, é inserido após a keyword `lambda`. São encerrados por dois-pontos(`:`);\n",
        "* Após os dois-pontos (`:`), escrevemos uma expressão que irá compor o **corpo** da função. O valor retornado é o resultado da expressão, e portanto não usamos a keyword `return`\n",
        "\n",
        "A grande vantagem é que podemos, em apenas uma linha, construir e executar pequenas funções, sem o passo intermediário de armazená-las em memória. \n",
        "Este comportamento fornece grande agilidade em alguns casos, como por exemplo quando precisamos fornecer funções como argumentos para outras funções.\n",
        "Como veremos nas próximas aulas, é comum usarmos este recurso quando queremos aplicar uma função a um conjunto de dados (mais sobre isso nas próximas aulas)"
      ]
    },
    {
      "cell_type": "markdown",
      "metadata": {
        "id": "HRcUDrMtOvyf",
        "colab_type": "text"
      },
      "source": [
        "Vamos construir uma função lambda com um único parâmetro `x`, cuja funcionalidade é exponenciar `x` à potência 2"
      ]
    },
    {
      "cell_type": "code",
      "metadata": {
        "id": "m19OZuHOOvyu",
        "colab_type": "code",
        "colab": {}
      },
      "source": [
        "lambda x: x**2 "
      ],
      "execution_count": 0,
      "outputs": []
    },
    {
      "cell_type": "markdown",
      "metadata": {
        "id": "mQE7XTEGOvy1",
        "colab_type": "text"
      },
      "source": [
        "Agora vamos, em uma linha, construir três variações destas funções e executá-las imediatamente. Perceba que as funções não permanecem em memória, e \"desaparecem\" assim que são executadas"
      ]
    },
    {
      "cell_type": "code",
      "metadata": {
        "id": "Jir7CULwOvy2",
        "colab_type": "code",
        "colab": {}
      },
      "source": [
        "(lambda x: x**2)(2)"
      ],
      "execution_count": 0,
      "outputs": []
    },
    {
      "cell_type": "code",
      "metadata": {
        "id": "Z2W687BAOvzE",
        "colab_type": "code",
        "colab": {}
      },
      "source": [
        "(lambda x: x**3)(2)"
      ],
      "execution_count": 0,
      "outputs": []
    },
    {
      "cell_type": "code",
      "metadata": {
        "id": "g2Hz8H9YOvzL",
        "colab_type": "code",
        "colab": {}
      },
      "source": [
        "(lambda x: x**4)(2)"
      ],
      "execution_count": 0,
      "outputs": []
    },
    {
      "cell_type": "markdown",
      "metadata": {
        "id": "pO_AbigCOvzR",
        "colab_type": "text"
      },
      "source": [
        "Se quisermos, podemos também guardar uma função lambda em memória, bastando para isso associá-la a uma variável"
      ]
    },
    {
      "cell_type": "code",
      "metadata": {
        "id": "uL_9si_bOvzS",
        "colab_type": "code",
        "colab": {}
      },
      "source": [
        "exp2 = lambda x: x**2\n",
        "exp3 = lambda x: x**3\n",
        "exp4 = lambda x: x**4"
      ],
      "execution_count": 0,
      "outputs": []
    },
    {
      "cell_type": "code",
      "metadata": {
        "id": "BgrHYpv3OvzX",
        "colab_type": "code",
        "colab": {}
      },
      "source": [
        "print( exp2(2) )\n",
        "print( exp3(2) )\n",
        "print( exp4(2) )"
      ],
      "execution_count": 0,
      "outputs": []
    },
    {
      "cell_type": "markdown",
      "metadata": {
        "id": "SEGlXiDzOvzc",
        "colab_type": "text"
      },
      "source": [
        "Funções lambda não necessariamente precisam ter apenas um parâmetro! Vamos adicionar o parâmetro `p`, que indica a potência da exponenciação"
      ]
    },
    {
      "cell_type": "code",
      "metadata": {
        "id": "VE51-e_mOvzg",
        "colab_type": "code",
        "colab": {}
      },
      "source": [
        "exp = lambda x,p: x**p"
      ],
      "execution_count": 0,
      "outputs": []
    },
    {
      "cell_type": "code",
      "metadata": {
        "id": "w4UPiZPXOvzr",
        "colab_type": "code",
        "colab": {}
      },
      "source": [
        "print( exp(2,2) )\n",
        "print( exp(2,3) )\n",
        "print( exp(2,4) )"
      ],
      "execution_count": 0,
      "outputs": []
    },
    {
      "cell_type": "markdown",
      "metadata": {
        "id": "skTpeOcmOvz6",
        "colab_type": "text"
      },
      "source": [
        "Inclusive, podemos fornecer argumentos por *default*"
      ]
    },
    {
      "cell_type": "code",
      "metadata": {
        "id": "3OfWLxfYOvz8",
        "colab_type": "code",
        "colab": {}
      },
      "source": [
        "exp = lambda x,p=2: x**p"
      ],
      "execution_count": 0,
      "outputs": []
    },
    {
      "cell_type": "code",
      "metadata": {
        "id": "pjI2WscuOvz_",
        "colab_type": "code",
        "colab": {}
      },
      "source": [
        "print( exp(2) ) # por default, a potência é 2\n",
        "print( exp(2,2) )\n",
        "print( exp(2,3) )\n",
        "print( exp(2,4) )"
      ],
      "execution_count": 0,
      "outputs": []
    },
    {
      "cell_type": "markdown",
      "metadata": {
        "id": "s4iTq-GkOv0K",
        "colab_type": "text"
      },
      "source": [
        "---"
      ]
    },
    {
      "cell_type": "markdown",
      "metadata": {
        "id": "_hp-a20iOv0L",
        "colab_type": "text"
      },
      "source": [
        "# 3. Classes"
      ]
    },
    {
      "cell_type": "markdown",
      "metadata": {
        "id": "I68mbf4VOv0M",
        "colab_type": "text"
      },
      "source": [
        "O conceito de classe vem do paradigma de **programação orientada a objetos**. \n",
        "Como o nome diz, este paradigma se baseia na existência de **objetos**, elementos que são criados durante a execução do programa, que armazenam dados, possuem comportamentos pré-definidos e mantêm estado.\n",
        "Os resultados da execução do programa são obtidos através de várias interações entre objetos distintos."
      ]
    },
    {
      "cell_type": "markdown",
      "metadata": {
        "id": "ZizLum4JOv0N",
        "colab_type": "text"
      },
      "source": [
        "**Classes** permitem ao programador definir como cada tipo de objeto deve armazenar dados, bem como quais procedimentos é capaz de realizar.\n",
        "A ideia é que objetos são criados (ou **instanciados**) com base em classes definidas pelo programador.\n",
        "Elas especificam as instruções sobre como construir os objetos de determinado tipo através de **atributos** e **métodos**:\n",
        "\n",
        "**Atributos** definem os dados que pertencem a objetos de determinado tipo. Embora os atributos sejam os mesmos para todos os objetos do mesmo tipo, os valores de cada atributo são diferentes para cada objeto individual (também referido como *instância*).\n",
        "\n",
        "**Métodos**  definem os comportamentos de objetos de determinado tipo. Podem fornecer informação sobre o objeto (métodos \"*getter*\"), ou atualizar seus atributos (métodos \"*setter*\")."
      ]
    },
    {
      "cell_type": "markdown",
      "metadata": {
        "id": "HVYwF9_bOv0N",
        "colab_type": "text"
      },
      "source": [
        "### Construindo objetos"
      ]
    },
    {
      "cell_type": "markdown",
      "metadata": {
        "id": "LN2Se2z6Ov0O",
        "colab_type": "text"
      },
      "source": [
        "Objetos são instanciados segundo o padrão especificado da classe.\n",
        "Um método especial, chamado **construtor** (em python, seu nome é `__init__`), é o primeiro a ser executado durante a instanciação, e guarda as instruções para a construção do objeto.\n",
        "Nele são definidos os valores para cada um dos atributos."
      ]
    },
    {
      "cell_type": "markdown",
      "metadata": {
        "id": "-drdbhcyOv0P",
        "colab_type": "text"
      },
      "source": [
        "Vamos definir uma nova classe, chamada `Vehicle`, que especifica objetos que representam veículos.\n",
        "O construtor `__init__` é o único método que deve ser necessariamente implementado na definição de qualquer classe.\n",
        "Por enquanto a classe `Vehicle` possui apenas quatro atributos (`type`, `model`, `manufacturer` e `seat_capacity`), e não possui métodos"
      ]
    },
    {
      "cell_type": "code",
      "metadata": {
        "id": "HGaYTF7POv0W",
        "colab_type": "code",
        "colab": {}
      },
      "source": [
        "class Vehicle:\n",
        "    \n",
        "    def __init__(self, type, model, manufacturer, seat_capacity):\n",
        "        self.type = type\n",
        "        self.model = model\n",
        "        self.manufacturer = manufacturer\n",
        "        self.seat_capacity = seat_capacity"
      ],
      "execution_count": 0,
      "outputs": []
    },
    {
      "cell_type": "markdown",
      "metadata": {
        "id": "jGUAYs3GOv0f",
        "colab_type": "text"
      },
      "source": [
        "**Obs.** a keyword `self` deve sempre ser o primeiro parâmetro de qualquer método definido dentro de uma classe.\n",
        "Ela se refere ao objeto sendo instanciado, e precisa ser usada sempre que queremos resgatar ou atribuir valores aos atributos da instância."
      ]
    },
    {
      "cell_type": "markdown",
      "metadata": {
        "id": "91zFkPC8Ov0h",
        "colab_type": "text"
      },
      "source": [
        "Agora vamos criar dois veículos: um avião e um carro, ambos instâncias de `Vehicle`. Os objetos serão atribuídos às variáveis `myPlane` e `myCar`, respectivamente, para que possam ser referenciados posteriormente.\n",
        "Como as instâncias são diferentes umas das outras, passamos para o construtor de cada uma os valores que devem ser estabelecidos como atributos, na forma de argumentos."
      ]
    },
    {
      "cell_type": "code",
      "metadata": {
        "id": "rkOtiYTbOv0h",
        "colab_type": "code",
        "colab": {}
      },
      "source": [
        "myPlane = Vehicle('plane', \"A320\", \"Airbus\", 180)\n",
        "myCar = Vehicle('car', model=\"Uno\", manufacturer=\"Fiat\", seat_capacity=5)"
      ],
      "execution_count": 0,
      "outputs": []
    },
    {
      "cell_type": "markdown",
      "metadata": {
        "id": "84Gn37QgOv0j",
        "colab_type": "text"
      },
      "source": [
        "Usamos a notação de ponto (`.`) para acessar atributos e métodos de objetos. Podemos consultar os valores dos atributos"
      ]
    },
    {
      "cell_type": "code",
      "metadata": {
        "id": "mnBmOAdpOv0k",
        "colab_type": "code",
        "colab": {}
      },
      "source": [
        "print( myPlane.type )\n",
        "print( myPlane.manufacturer )\n",
        "print( myPlane.model )\n",
        "print( myPlane.seat_capacity )"
      ],
      "execution_count": 0,
      "outputs": []
    },
    {
      "cell_type": "code",
      "metadata": {
        "id": "o-cHFGONOv0o",
        "colab_type": "code",
        "colab": {}
      },
      "source": [
        "print( myCar.type )\n",
        "print( myCar.manufacturer )\n",
        "print( myCar.model )\n",
        "print( myCar.seat_capacity )"
      ],
      "execution_count": 0,
      "outputs": []
    },
    {
      "cell_type": "markdown",
      "metadata": {
        "id": "Kh62cWP0Ov0t",
        "colab_type": "text"
      },
      "source": [
        "ou alterar diretamente os valores dos atributos (embora esta abordagem não seja recomendada)"
      ]
    },
    {
      "cell_type": "code",
      "metadata": {
        "id": "1XuTd8YZOv0u",
        "colab_type": "code",
        "colab": {}
      },
      "source": [
        "myPlane.model = 'a321'"
      ],
      "execution_count": 0,
      "outputs": []
    },
    {
      "cell_type": "code",
      "metadata": {
        "id": "nSdapLcHOv0x",
        "colab_type": "code",
        "colab": {}
      },
      "source": [
        "myPlane.model"
      ],
      "execution_count": 0,
      "outputs": []
    },
    {
      "cell_type": "markdown",
      "metadata": {
        "id": "w1EDkAA_Ov01",
        "colab_type": "text"
      },
      "source": [
        "### Consultando dados do objeto com métodos \"*getter*\""
      ]
    },
    {
      "cell_type": "markdown",
      "metadata": {
        "id": "kd2Xy_VyOv01",
        "colab_type": "text"
      },
      "source": [
        "Em programação orientada a objetos, uma boa prática é prevenir o acesso direto a atributos do objeto, de forma a manter o **encapsulamento de dados**. Assim, os atributos do objeto tornam-se privados, sendo apenas visíveis pelo próprio objeto. Uma vantagem direta desta abordagem é que assim evitamos que nosso código modifique os atributos inadvertidamente. Outra vantagem é que adicionamos uma camada de abstração ao objeto: não importa muito como a informação é representada internamente ao objeto, podemos processá-la antes de externalizá-la. \n",
        "\n",
        "Vamos então adicionar dois métodos *getter* à nossa classe `Vehicle`"
      ]
    },
    {
      "cell_type": "code",
      "metadata": {
        "id": "J4R_dxgcOv1D",
        "colab_type": "code",
        "colab": {}
      },
      "source": [
        "class Vehicle:\n",
        "    \n",
        "    def __init__(self, type, model, manufacturer, seat_capacity):\n",
        "        self.type = type\n",
        "        self.model = model\n",
        "        self.manufacturer = manufacturer\n",
        "        self.seat_capacity = seat_capacity\n",
        "        \n",
        "    # Getter methods\n",
        "    \n",
        "    def getModel(self):\n",
        "        return f\"{self.manufacturer} {self.model}\"\n",
        "        \n",
        "    def getSeatCapacity(self):\n",
        "        return self.seat_capacity"
      ],
      "execution_count": 0,
      "outputs": []
    },
    {
      "cell_type": "markdown",
      "metadata": {
        "id": "Ss4sTM7POv1M",
        "colab_type": "text"
      },
      "source": [
        "O método `getModel` retorna o modelo do veículo, após o nome do fabricante. \n",
        "O método `getNumPassengers` simplesmente retorna o numero de passageiros que o veículo comporta.\n",
        "Note que decidimos não externalizar o tipo (atributo `type`) do veículo"
      ]
    },
    {
      "cell_type": "code",
      "metadata": {
        "id": "u-0i9sXDOv1O",
        "colab_type": "code",
        "colab": {}
      },
      "source": [
        "myPlane = Vehicle('plane', \"A320\", \"Airbus\", 180)\n",
        "myCar = Vehicle('car', model=\"Uno\", manufacturer=\"Fiat\", seat_capacity=5)"
      ],
      "execution_count": 0,
      "outputs": []
    },
    {
      "cell_type": "code",
      "metadata": {
        "id": "-HZvdmZDOv1R",
        "colab_type": "code",
        "colab": {}
      },
      "source": [
        "print( myPlane.getModel() )\n",
        "print( f\"Cabem {myPlane.getSeatCapacity()} passageiros no {myPlane.getModel()}\" )"
      ],
      "execution_count": 0,
      "outputs": []
    },
    {
      "cell_type": "code",
      "metadata": {
        "id": "JSTTrVYvOv1X",
        "colab_type": "code",
        "colab": {}
      },
      "source": [
        "print( myCar.getModel() )\n",
        "print( f\"Cabem {myCar.getSeatCapacity()} passageiros no {myCar.getModel()}\" )"
      ],
      "execution_count": 0,
      "outputs": []
    },
    {
      "cell_type": "markdown",
      "metadata": {
        "id": "qMNrQKApOv1d",
        "colab_type": "text"
      },
      "source": [
        "### Atualizando dados do objeto com métodos \"*setter*\""
      ]
    },
    {
      "cell_type": "markdown",
      "metadata": {
        "id": "VBCG8m2dOv1f",
        "colab_type": "text"
      },
      "source": [
        "Frequentemente precisamos atualizar valores de atributos de objetos.\n",
        "Vamos adicionar à classe `Vehicle` a funcionalidade de embarcar e desembarcar passageiros."
      ]
    },
    {
      "cell_type": "markdown",
      "metadata": {
        "id": "mHq6kBsuOv1g",
        "colab_type": "text"
      },
      "source": [
        "Para isso, faremos algumas modificações:\n",
        "\n",
        "1. Adicionamos um atributo `n_passengers_onboard`, que armazena o número de passageiros a bordo. Este atributo é inicializado com o valor zero. Ou seja, no momento em que o objeto é criado não há nenhum passageiro embarcado;\n",
        "\n",
        "2. Adicionamos mais dois métodos \"*getter*\": `getNumPassengersOnboard` retorna o número de passageiros que se encontram a bordo do veículo; e `getNumSeatsAvailable` retorna o número de assentos ainda disponíveis;\n",
        "\n",
        "3. Adicionamos três métodos \"*setter*\": `removeAllPassengers` remove todos os passageiros a bordo; `embarkPassengers` adiciona $n$ passageiros ao veículo, desde que haja espaço; `removePassengers` remove $n$ passageiros do veículo."
      ]
    },
    {
      "cell_type": "code",
      "metadata": {
        "id": "1OpMXnNROv1h",
        "colab_type": "code",
        "colab": {}
      },
      "source": [
        "class Vehicle:\n",
        "    \n",
        "    def __init__(self, type, model, manufacturer, seat_capacity):\n",
        "        self.type = type\n",
        "        self.model = model\n",
        "        self.manufacturer = manufacturer\n",
        "        self.seat_capacity = seat_capacity\n",
        "        \n",
        "        self.n_passengers_onboard = 0\n",
        "        \n",
        "    # Getter methods\n",
        "    \n",
        "    def getModel(self):\n",
        "        return f\"{self.manufacturer} {self.model}\"\n",
        "        \n",
        "    def getSeatCapacity(self):\n",
        "        return self.seat_capacity\n",
        "    \n",
        "    def getNumPassengersOnboard(self):\n",
        "        return self.n_passengers_onboard\n",
        "    \n",
        "    def getNumSeatsAvailable(self):\n",
        "        return self.seat_capacity - self.n_passengers_onboard\n",
        "    \n",
        "    # Setter methods\n",
        "    \n",
        "    def removeAllPassengers(self):\n",
        "        self.n_passengers_onboard = 0\n",
        "        \n",
        "    def embarkPassengers(self, n_passengers_to_embark):\n",
        "        \n",
        "        available_seats = self.getNumSeatsAvailable()\n",
        "        \n",
        "        if available_seats >= n_passengers_to_embark:\n",
        "            self.n_passengers_onboard += n_passengers_to_embark\n",
        "            return f\"Mais {n_passengers_to_embark} passageiros embarcados com sucesso!\"\n",
        "        \n",
        "        else:\n",
        "            return f\"Impossível embarcar mais {n_passengers_to_embark} passageiros! Apenas {available_seats} assentos disponíveis.\"\n",
        "        \n",
        "    def removePassengers(self, n_passengers_to_remove):\n",
        "        \n",
        "        if n_passengers_to_remove <= self.n_passengers_onboard:\n",
        "            self.n_passengers_onboard -= n_passengers_to_remove\n",
        "            return f\"Desembarcaram {n_passengers_to_remove} passageiros\"\n",
        "        \n",
        "        elif self.n_passengers_onboard > 0:\n",
        "            n_passengers_remaining = self.n_passengers_onboard\n",
        "            self.removeAllPassengers()\n",
        "            return f\"Havia apenas {n_passengers_remaining} embarcados! Todos desembarcaram.\"\n",
        "        \n",
        "        else:\n",
        "            return \"Nenhum passageiro a bordo\""
      ],
      "execution_count": 0,
      "outputs": []
    },
    {
      "cell_type": "markdown",
      "metadata": {
        "id": "T1fFqopnOv1n",
        "colab_type": "text"
      },
      "source": [
        "Vamos então recriar o avião e o carro, embarcar e desembarcar passageiros"
      ]
    },
    {
      "cell_type": "code",
      "metadata": {
        "id": "7fx-SUFzOv1n",
        "colab_type": "code",
        "colab": {}
      },
      "source": [
        "myPlane = Vehicle('plane', \"A320\", \"Airbus\", 180)\n",
        "myCar = Vehicle('car', \"Uno\", \"Fiat\", 5)"
      ],
      "execution_count": 0,
      "outputs": []
    },
    {
      "cell_type": "markdown",
      "metadata": {
        "id": "0vToVjG6Ov1t",
        "colab_type": "text"
      },
      "source": [
        "No avião:"
      ]
    },
    {
      "cell_type": "code",
      "metadata": {
        "id": "1qao2pFrOv1t",
        "colab_type": "code",
        "colab": {}
      },
      "source": [
        "print( myPlane.embarkPassengers(50) )\n",
        "print( f\"{myPlane.getNumPassengersOnboard()} passageiros a bordo\" )\n",
        "print( f\"{myPlane.getNumSeatsAvailable()} assentos disponíveis\" )"
      ],
      "execution_count": 0,
      "outputs": []
    },
    {
      "cell_type": "code",
      "metadata": {
        "id": "iokXXYNaOv1y",
        "colab_type": "code",
        "colab": {}
      },
      "source": [
        "print(myPlane.removePassengers(5))\n",
        "print( f\"{myPlane.getNumPassengersOnboard()} passageiros a bordo\" )\n",
        "print( f\"{myPlane.getNumSeatsAvailable()} assentos disponíveis\" )"
      ],
      "execution_count": 0,
      "outputs": []
    },
    {
      "cell_type": "markdown",
      "metadata": {
        "id": "p0mRpUaoOv11",
        "colab_type": "text"
      },
      "source": [
        "No carro:"
      ]
    },
    {
      "cell_type": "code",
      "metadata": {
        "id": "TJkt9jFwOv11",
        "colab_type": "code",
        "colab": {}
      },
      "source": [
        "print( myCar.embarkPassengers(5) )\n",
        "print( f\"{myCar.getNumPassengersOnboard()} passageiros a bordo\" )\n",
        "print( f\"{myCar.getNumSeatsAvailable()} assentos disponíveis\" )"
      ],
      "execution_count": 0,
      "outputs": []
    },
    {
      "cell_type": "code",
      "metadata": {
        "id": "Kolfgpg9Ov13",
        "colab_type": "code",
        "colab": {}
      },
      "source": [
        "print(myCar.removePassengers(5))\n",
        "print( f\"{myCar.getNumPassengersOnboard()} passageiros a bordo\" )\n",
        "print( f\"{myCar.getNumSeatsAvailable()} assentos disponíveis\" )"
      ],
      "execution_count": 0,
      "outputs": []
    },
    {
      "cell_type": "markdown",
      "metadata": {
        "id": "_efNMGA5Ov17",
        "colab_type": "text"
      },
      "source": [
        "### Herança"
      ]
    },
    {
      "cell_type": "markdown",
      "metadata": {
        "id": "8qJzgyQWOv18",
        "colab_type": "text"
      },
      "source": [
        "Um conceito muito importante na programação orientada a objetos é a **herança** (*inheritance*).\n",
        "**Subclasses** podem \"herdar\" comportamentos e atributos de sua **superclasse**, ou classe-pai."
      ]
    },
    {
      "cell_type": "markdown",
      "metadata": {
        "id": "QsQm7DSSOv1-",
        "colab_type": "text"
      },
      "source": [
        "Vamos criar duas novas subclasses, `Airplane` e `Car`, que são veículos mais \"específicos\".\n",
        "Elas extendem a superclasse `Vehicle`, que é mais \"genérica\".\n",
        "Alguns pontos importantes:"
      ]
    },
    {
      "cell_type": "markdown",
      "metadata": {
        "id": "8EWbc5mZOv1-",
        "colab_type": "text"
      },
      "source": [
        "#### Construtores\n",
        "As subclasses têm seus próprios métodos construtores (`__init__`), que não usam o argumento `type`. Isso porque o tipo da classe `Airplane` sempre será `'plane'`, enquanto o tipo da classe `Car` sempre será `'car'`. Este atributo, no entanto, é passado para o construtor da superclasse (`super().__init__`). Além disso, a classe `Airplane` espera um novo argumento `airline`, que guarda o nome da companhia aérea e, portanto, é um atributo exclusivo de aeronaves\n",
        "\n",
        "\n",
        "#### Novos métodos e atributos\n",
        "Subclasses podem ter métodos e atributos que não existiam em sua superclasse. No nosso exemplo, a classe `Airplane` possui o método `takeoff`, enquanto a classe `Car` possui o método `drive`. Não faria sentido um método chamado `takeoff` na classe `Vehicle`, pois nem todos os veículos podem decolar.\n",
        "O atributo `airline`, também exclusivo da classe `Airplane`, também não faria sentido para outros veículos como carros ou barcos.\n",
        "\n",
        "#### Substituição (*overriding*)\n",
        "Um subclasse pode substituir o comportamento herdado de sua superclasse, através de um mecanismo chamado *overriding* (substituição, em português). Em *Python*, isso pode ser feito simplesmente reimplementando o método da superclasse. Na classe `Car`, por exemplo, o método `embarkPassengers` foi substituído, sendo adicionado o parâmetro `name_driver`, que deve receber o nome do motorista. Este comportamento portanto ocorre apenas em carros, e não substitui o comportamento do mesmo método na classe `Airplane` nem na classe `Vehicle`."
      ]
    },
    {
      "cell_type": "code",
      "metadata": {
        "id": "a_j8uuqYOv1_",
        "colab_type": "code",
        "colab": {}
      },
      "source": [
        "class Airplane(Vehicle):\n",
        "    def __init__(self, model, manufacturer, airline, seat_capacity):\n",
        "        super().__init__(type='plane',model=model,manufacturer=manufacturer,seat_capacity=seat_capacity)\n",
        "        self.airline = airline\n",
        "        \n",
        "    def takeoff(self):\n",
        "        print(f\"O {self.getModel()} da {self.airline} está decolando com {self.getNumPassengersOnboard()} passageiros\")\n",
        "        \n",
        "        \n",
        "        \n",
        "        \n",
        "        \n",
        "class Car(Vehicle):\n",
        "    def __init__(self, model, manufacturer, seat_capacity):\n",
        "        super().__init__(type='car',model=model,manufacturer=manufacturer,seat_capacity=seat_capacity)\n",
        "        \n",
        "    def embarkPassengers(self, n_passengers_to_embark, name_driver):\n",
        "\n",
        "            available_seats = self.getNumSeatsAvailable()\n",
        "            self.name_driver = name_driver\n",
        "\n",
        "            if available_seats >= n_passengers_to_embark:\n",
        "                self.n_passengers_onboard += n_passengers_to_embark\n",
        "                return f\"Mais {n_passengers_to_embark} passageiros embarcados com sucesso!\"\n",
        "\n",
        "            else:\n",
        "                return f\"Impossível embarcar mais {n_passengers_to_embark} passageiros! Apenas {available_seats} assentos disponíveis.\"\n",
        "\n",
        "        \n",
        "    def drive(self):\n",
        "        if self.getNumPassengersOnboard()>0:\n",
        "            print(f\"O {self.getModel()}, conduzido por {self.name_driver}, está na estrada com {self.getNumPassengersOnboard()} passageiros\")\n",
        "\n",
        "        else:\n",
        "            print(\"Um carro não pode operar sem motorista!\")"
      ],
      "execution_count": 0,
      "outputs": []
    },
    {
      "cell_type": "markdown",
      "metadata": {
        "id": "NpLwdv5wOv2A",
        "colab_type": "text"
      },
      "source": [
        "Vamos agora testar as subclasses"
      ]
    },
    {
      "cell_type": "code",
      "metadata": {
        "id": "O_WNA6qsOv2B",
        "colab_type": "code",
        "colab": {}
      },
      "source": [
        "latamPlane = Airplane('A320','Airbus', \"Latam\", 180)\n",
        "\n",
        "print(latamPlane.embarkPassengers(130))\n",
        "latamPlane.takeoff()"
      ],
      "execution_count": 0,
      "outputs": []
    },
    {
      "cell_type": "code",
      "metadata": {
        "id": "aIZZt2PVOv2E",
        "colab_type": "code",
        "colab": {}
      },
      "source": [
        "azulPlane = Airplane('ERJ190','Embraer', \"Azul\", 100)\n",
        "\n",
        "print(azulPlane.embarkPassengers(70))\n",
        "azulPlane.takeoff()"
      ],
      "execution_count": 0,
      "outputs": []
    },
    {
      "cell_type": "code",
      "metadata": {
        "id": "KgflVYO7Ov2H",
        "colab_type": "code",
        "colab": {}
      },
      "source": [
        "myCar = Car('Uno','Fiat', 5)\n",
        "\n",
        "print(myCar.embarkPassengers(3, name_driver=\"Sérgio\"))\n",
        "myCar.drive()"
      ],
      "execution_count": 0,
      "outputs": []
    }
  ]
}
